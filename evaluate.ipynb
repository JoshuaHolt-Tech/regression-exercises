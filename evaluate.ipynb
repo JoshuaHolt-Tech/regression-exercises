{
 "cells": [
  {
   "cell_type": "code",
   "execution_count": 1,
   "id": "201de93f-279b-4493-9a2c-ff89df9edb18",
   "metadata": {
    "tags": []
   },
   "outputs": [],
   "source": [
    "#Importing required packages and files\n",
    "import pandas as pd\n",
    "import numpy as np\n",
    "from scipy import stats\n",
    "import matplotlib.pyplot as plt\n",
    "import seaborn as sns\n",
    "import os\n",
    "import explore as e\n",
    "from math import sqrt\n",
    "\n",
    "\n",
    "#These imports were constructed\n",
    "from wrangle import wrangle_zillow, train_validate, scale_zillow\n",
    "\n",
    "#Tools to build machine learning models and reports\n",
    "from sklearn.model_selection import train_test_split\n",
    "import sklearn.preprocessing\n",
    "from sklearn.linear_model import LinearRegression\n",
    "from sklearn.metrics import mean_squared_error, r2_score, explained_variance_score\n",
    "from sklearn.feature_selection import f_regression\n",
    "\n",
    "\n",
    "#Removes warnings and imporves asthenics\n",
    "import warnings\n",
    "#warnings.filterwarnings(\"ignore\")\n",
    "\n",
    "#Sets an option to show all columns\n",
    "pd.options.display.max_columns = None\n",
    "pd.options.display.width = 100\n",
    "pd.options.display.max_colwidth = None\n",
    "pd.options.display.max_rows = 200\n"
   ]
  },
  {
   "cell_type": "markdown",
   "id": "c8e371c9-d680-4265-b762-7a2e422f58bb",
   "metadata": {},
   "source": [
    "1. Load your zillow dataset."
   ]
  },
  {
   "cell_type": "code",
   "execution_count": 2,
   "id": "4f145c47-580c-4e26-9df2-967a52bc922a",
   "metadata": {},
   "outputs": [],
   "source": [
    "#Get data:\n",
    "master_df = wrangle_zillow()"
   ]
  },
  {
   "cell_type": "code",
   "execution_count": 3,
   "id": "7471b903-c05e-4a75-b69e-2af1fd69e123",
   "metadata": {},
   "outputs": [],
   "source": [
    "#Split data:\n",
    "train, val, test = train_validate(master_df)"
   ]
  },
  {
   "cell_type": "code",
   "execution_count": 4,
   "id": "75bac27c-58b0-4fe2-acae-24e05c5a8e48",
   "metadata": {},
   "outputs": [],
   "source": [
    "train_s, val_s, test_s = scale_zillow(train, val, test)"
   ]
  },
  {
   "cell_type": "code",
   "execution_count": 5,
   "id": "003f5ea1-96a9-444a-9df9-180ae1b43e0c",
   "metadata": {},
   "outputs": [
    {
     "data": {
      "text/html": [
       "<div>\n",
       "<style scoped>\n",
       "    .dataframe tbody tr th:only-of-type {\n",
       "        vertical-align: middle;\n",
       "    }\n",
       "\n",
       "    .dataframe tbody tr th {\n",
       "        vertical-align: top;\n",
       "    }\n",
       "\n",
       "    .dataframe thead th {\n",
       "        text-align: right;\n",
       "    }\n",
       "</style>\n",
       "<table border=\"1\" class=\"dataframe\">\n",
       "  <thead>\n",
       "    <tr style=\"text-align: right;\">\n",
       "      <th></th>\n",
       "      <th>Feature</th>\n",
       "      <th>Description</th>\n",
       "    </tr>\n",
       "  </thead>\n",
       "  <tbody>\n",
       "    <tr>\n",
       "      <th>4</th>\n",
       "      <td>'bedroomcnt'</td>\n",
       "      <td>Number of bedrooms in home</td>\n",
       "    </tr>\n",
       "    <tr>\n",
       "      <th>3</th>\n",
       "      <td>'bathroomcnt'</td>\n",
       "      <td>Number of bathrooms in home including fractional bathrooms</td>\n",
       "    </tr>\n",
       "    <tr>\n",
       "      <th>11</th>\n",
       "      <td>'calculatedfinishedsquarefeet'</td>\n",
       "      <td>Calculated total finished living area of the home</td>\n",
       "    </tr>\n",
       "    <tr>\n",
       "      <th>51</th>\n",
       "      <td>'taxvaluedollarcnt'</td>\n",
       "      <td>The total tax assessed value of the parcel</td>\n",
       "    </tr>\n",
       "    <tr>\n",
       "      <th>50</th>\n",
       "      <td>'yearbuilt'</td>\n",
       "      <td>The Year the principal residence was built</td>\n",
       "    </tr>\n",
       "    <tr>\n",
       "      <th>54</th>\n",
       "      <td>'taxamount'</td>\n",
       "      <td>The total property tax assessed for that assessment year</td>\n",
       "    </tr>\n",
       "    <tr>\n",
       "      <th>17</th>\n",
       "      <td>'fips'</td>\n",
       "      <td>Federal Information Processing Standard code -  see https://en.wikipedia.org/wiki/FIPS_county_code for more details</td>\n",
       "    </tr>\n",
       "  </tbody>\n",
       "</table>\n",
       "</div>"
      ],
      "text/plain": [
       "                           Feature  \\\n",
       "4                     'bedroomcnt'   \n",
       "3                    'bathroomcnt'   \n",
       "11  'calculatedfinishedsquarefeet'   \n",
       "51             'taxvaluedollarcnt'   \n",
       "50                     'yearbuilt'   \n",
       "54                     'taxamount'   \n",
       "17                          'fips'   \n",
       "\n",
       "                                                                                                             Description  \n",
       "4                                                                                            Number of bedrooms in home   \n",
       "3                                                             Number of bathrooms in home including fractional bathrooms  \n",
       "11                                                                    Calculated total finished living area of the home   \n",
       "51                                                                            The total tax assessed value of the parcel  \n",
       "50                                                                           The Year the principal residence was built   \n",
       "54                                                              The total property tax assessed for that assessment year  \n",
       "17   Federal Information Processing Standard code -  see https://en.wikipedia.org/wiki/FIPS_county_code for more details  "
      ]
     },
     "execution_count": 5,
     "metadata": {},
     "output_type": "execute_result"
    }
   ],
   "source": [
    "#Found schema on kaggle site\n",
    "schema = pd.read_excel('zillow_data_dictionary.xlsx')\n",
    "#schema\n",
    "schema.loc[[4, 3, 11, 51, 50, 54, 17]]"
   ]
  },
  {
   "cell_type": "markdown",
   "id": "bd8e029a-09e0-4c80-8193-dd3306502d62",
   "metadata": {},
   "source": [
    "2. Fit a linear regression model (ordinary least squares) and compute yhat, predictions of taxvaluedollarcnt using only calculatedfinishedsqft.\n",
    "\n",
    "    Here is some sample code to get you started:\n",
    "\n",
    "\n",
    "`from sklearn.linear_model import LinearRegression`\n",
    "\n",
    "`# assuming X and y are already defined`\n",
    "\n",
    "`model = LinearRegression().fit(X, y)`\n",
    "\n",
    "`predictions = model.predict(X)`\n",
    "\n",
    "Modify and add to the code above as necessary for it to work with the zillow dataset."
   ]
  },
  {
   "cell_type": "code",
   "execution_count": 6,
   "id": "458254fa-dd1d-43ea-8c69-c69ddc7e65bd",
   "metadata": {},
   "outputs": [
    {
     "data": {
      "text/html": [
       "<div>\n",
       "<style scoped>\n",
       "    .dataframe tbody tr th:only-of-type {\n",
       "        vertical-align: middle;\n",
       "    }\n",
       "\n",
       "    .dataframe tbody tr th {\n",
       "        vertical-align: top;\n",
       "    }\n",
       "\n",
       "    .dataframe thead th {\n",
       "        text-align: right;\n",
       "    }\n",
       "</style>\n",
       "<table border=\"1\" class=\"dataframe\">\n",
       "  <thead>\n",
       "    <tr style=\"text-align: right;\">\n",
       "      <th></th>\n",
       "      <th>bedrooms</th>\n",
       "      <th>bathrooms</th>\n",
       "      <th>sqft</th>\n",
       "      <th>tax_value</th>\n",
       "      <th>year_built</th>\n",
       "      <th>taxamount</th>\n",
       "      <th>fips</th>\n",
       "    </tr>\n",
       "  </thead>\n",
       "  <tbody>\n",
       "    <tr>\n",
       "      <th>2045960</th>\n",
       "      <td>3.0</td>\n",
       "      <td>2.0</td>\n",
       "      <td>-0.455310</td>\n",
       "      <td>388527.0</td>\n",
       "      <td>1956.0</td>\n",
       "      <td>0.174617</td>\n",
       "      <td>6037.0</td>\n",
       "    </tr>\n",
       "    <tr>\n",
       "      <th>1345346</th>\n",
       "      <td>3.0</td>\n",
       "      <td>2.0</td>\n",
       "      <td>-0.447950</td>\n",
       "      <td>229705.0</td>\n",
       "      <td>1956.0</td>\n",
       "      <td>-0.147257</td>\n",
       "      <td>6037.0</td>\n",
       "    </tr>\n",
       "    <tr>\n",
       "      <th>761422</th>\n",
       "      <td>6.0</td>\n",
       "      <td>3.0</td>\n",
       "      <td>1.403785</td>\n",
       "      <td>251184.0</td>\n",
       "      <td>1951.0</td>\n",
       "      <td>-0.325879</td>\n",
       "      <td>6037.0</td>\n",
       "    </tr>\n",
       "    <tr>\n",
       "      <th>1667958</th>\n",
       "      <td>4.0</td>\n",
       "      <td>3.0</td>\n",
       "      <td>1.072555</td>\n",
       "      <td>525255.0</td>\n",
       "      <td>1990.0</td>\n",
       "      <td>0.576273</td>\n",
       "      <td>6059.0</td>\n",
       "    </tr>\n",
       "    <tr>\n",
       "      <th>564887</th>\n",
       "      <td>6.0</td>\n",
       "      <td>4.0</td>\n",
       "      <td>1.702419</td>\n",
       "      <td>174603.0</td>\n",
       "      <td>1972.0</td>\n",
       "      <td>-0.487893</td>\n",
       "      <td>6059.0</td>\n",
       "    </tr>\n",
       "  </tbody>\n",
       "</table>\n",
       "</div>"
      ],
      "text/plain": [
       "         bedrooms  bathrooms      sqft  tax_value  year_built  taxamount    fips\n",
       "2045960       3.0        2.0 -0.455310   388527.0      1956.0   0.174617  6037.0\n",
       "1345346       3.0        2.0 -0.447950   229705.0      1956.0  -0.147257  6037.0\n",
       "761422        6.0        3.0  1.403785   251184.0      1951.0  -0.325879  6037.0\n",
       "1667958       4.0        3.0  1.072555   525255.0      1990.0   0.576273  6059.0\n",
       "564887        6.0        4.0  1.702419   174603.0      1972.0  -0.487893  6059.0"
      ]
     },
     "execution_count": 6,
     "metadata": {},
     "output_type": "execute_result"
    }
   ],
   "source": [
    "train_s.head()"
   ]
  },
  {
   "cell_type": "code",
   "execution_count": 7,
   "id": "6d17aaa6-c809-49cd-98fe-66692c2aa185",
   "metadata": {},
   "outputs": [],
   "source": [
    "# Check out z-score.\n",
    "# Cehck out inner quartile range."
   ]
  },
  {
   "cell_type": "code",
   "execution_count": 8,
   "id": "99f50f5c-90d8-480e-85b6-20dadc885e57",
   "metadata": {},
   "outputs": [],
   "source": [
    "preds = train_s[['tax_value', 'sqft']]"
   ]
  },
  {
   "cell_type": "code",
   "execution_count": 9,
   "id": "f7c1ff7f-7485-458c-9c7d-44423c640ec1",
   "metadata": {},
   "outputs": [],
   "source": [
    "model = LinearRegression().fit(train_s[['sqft']], train_s['tax_value'])"
   ]
  },
  {
   "cell_type": "code",
   "execution_count": 10,
   "id": "7a0cce4f-c51b-4d72-b6ac-8c82f4bf9b49",
   "metadata": {},
   "outputs": [],
   "source": [
    "preds['yhat_baseline'] = train_s['tax_value'].mean()"
   ]
  },
  {
   "cell_type": "code",
   "execution_count": 11,
   "id": "c2551f2a-61bf-422c-ab16-e2c602365924",
   "metadata": {},
   "outputs": [],
   "source": [
    "preds['yhat'] = model.predict(train_s[['tax_value']])"
   ]
  },
  {
   "cell_type": "code",
   "execution_count": 12,
   "id": "c7bd68bc-955f-4b70-8769-50d3eb375888",
   "metadata": {},
   "outputs": [],
   "source": [
    "preds['residual'] = preds['yhat'] - preds['tax_value']"
   ]
  },
  {
   "cell_type": "code",
   "execution_count": 13,
   "id": "1c55e8a5-1e33-4985-b634-55b50294394c",
   "metadata": {},
   "outputs": [],
   "source": [
    "preds['residual_baseline'] = preds['yhat_baseline'] - preds['tax_value']"
   ]
  },
  {
   "cell_type": "code",
   "execution_count": 14,
   "id": "22977cb1-eec0-4872-a08e-3edd3dcda298",
   "metadata": {},
   "outputs": [
    {
     "data": {
      "text/html": [
       "<div>\n",
       "<style scoped>\n",
       "    .dataframe tbody tr th:only-of-type {\n",
       "        vertical-align: middle;\n",
       "    }\n",
       "\n",
       "    .dataframe tbody tr th {\n",
       "        vertical-align: top;\n",
       "    }\n",
       "\n",
       "    .dataframe thead th {\n",
       "        text-align: right;\n",
       "    }\n",
       "</style>\n",
       "<table border=\"1\" class=\"dataframe\">\n",
       "  <thead>\n",
       "    <tr style=\"text-align: right;\">\n",
       "      <th></th>\n",
       "      <th>tax_value</th>\n",
       "      <th>sqft</th>\n",
       "      <th>yhat_baseline</th>\n",
       "      <th>yhat</th>\n",
       "      <th>residual</th>\n",
       "      <th>residual_baseline</th>\n",
       "    </tr>\n",
       "  </thead>\n",
       "  <tbody>\n",
       "    <tr>\n",
       "      <th>2045960</th>\n",
       "      <td>388527.0</td>\n",
       "      <td>-0.455310</td>\n",
       "      <td>461274.212033</td>\n",
       "      <td>7.796413e+10</td>\n",
       "      <td>7.796374e+10</td>\n",
       "      <td>72747.212033</td>\n",
       "    </tr>\n",
       "    <tr>\n",
       "      <th>1345346</th>\n",
       "      <td>229705.0</td>\n",
       "      <td>-0.447950</td>\n",
       "      <td>461274.212033</td>\n",
       "      <td>4.609413e+10</td>\n",
       "      <td>4.609390e+10</td>\n",
       "      <td>231569.212033</td>\n",
       "    </tr>\n",
       "    <tr>\n",
       "      <th>761422</th>\n",
       "      <td>251184.0</td>\n",
       "      <td>1.403785</td>\n",
       "      <td>461274.212033</td>\n",
       "      <td>5.040421e+10</td>\n",
       "      <td>5.040396e+10</td>\n",
       "      <td>210090.212033</td>\n",
       "    </tr>\n",
       "    <tr>\n",
       "      <th>1667958</th>\n",
       "      <td>525255.0</td>\n",
       "      <td>1.072555</td>\n",
       "      <td>461274.212033</td>\n",
       "      <td>1.054006e+11</td>\n",
       "      <td>1.054001e+11</td>\n",
       "      <td>-63980.787967</td>\n",
       "    </tr>\n",
       "    <tr>\n",
       "      <th>564887</th>\n",
       "      <td>174603.0</td>\n",
       "      <td>1.702419</td>\n",
       "      <td>461274.212033</td>\n",
       "      <td>3.503710e+10</td>\n",
       "      <td>3.503692e+10</td>\n",
       "      <td>286671.212033</td>\n",
       "    </tr>\n",
       "  </tbody>\n",
       "</table>\n",
       "</div>"
      ],
      "text/plain": [
       "         tax_value      sqft  yhat_baseline          yhat      residual  residual_baseline\n",
       "2045960   388527.0 -0.455310  461274.212033  7.796413e+10  7.796374e+10       72747.212033\n",
       "1345346   229705.0 -0.447950  461274.212033  4.609413e+10  4.609390e+10      231569.212033\n",
       "761422    251184.0  1.403785  461274.212033  5.040421e+10  5.040396e+10      210090.212033\n",
       "1667958   525255.0  1.072555  461274.212033  1.054006e+11  1.054001e+11      -63980.787967\n",
       "564887    174603.0  1.702419  461274.212033  3.503710e+10  3.503692e+10      286671.212033"
      ]
     },
     "execution_count": 14,
     "metadata": {},
     "output_type": "execute_result"
    }
   ],
   "source": [
    "preds.head()"
   ]
  },
  {
   "cell_type": "markdown",
   "id": "5aaba67f-e29c-4eaa-917d-54aa34caefa5",
   "metadata": {},
   "source": [
    "3. Plot the residuals for the linear regression model that you made."
   ]
  },
  {
   "cell_type": "code",
   "execution_count": 15,
   "id": "e3717c64-63bd-4c9d-b18c-f2319f9da3c4",
   "metadata": {},
   "outputs": [
    {
     "data": {
      "image/png": "[encoded data removed]",
      "text/plain": [
       "<Figure size 500x500 with 1 Axes>"
      ]
     },
     "metadata": {},
     "output_type": "display_data"
    },
    {
     "data": {
      "image/png": "[encoded data removed]",
      "text/plain": [
       "<Figure size 500x500 with 1 Axes>"
      ]
     },
     "metadata": {},
     "output_type": "display_data"
    },
    {
     "data": {
      "image/png": "[encoded data removed]",
      "text/plain": [
       "<Figure size 500x500 with 1 Axes>"
      ]
     },
     "metadata": {},
     "output_type": "display_data"
    }
   ],
   "source": [
    "sns.relplot(data=preds.sample(50000), x='sqft', y='yhat', kind='scatter', marker='.')\n",
    "sns.relplot(data=preds.sample(50000), x='sqft', y='tax_value', kind='scatter', marker='.')\n",
    "sns.relplot(data=preds.sample(50000), x='sqft', y='residual', kind='scatter', marker='.')\n",
    "\n",
    "plt.xlabel('Actual Home Value')\n",
    "plt.ylabel('Residual Value')\n",
    "plt.show()\n",
    "#plt.xlim(left=0, right=8000)\n",
    "#plt.ylim(top=500000, bottom =-800000)"
   ]
  },
  {
   "cell_type": "code",
   "execution_count": 16,
   "id": "5ef34380-7bed-4c4e-b32c-3783e7c78565",
   "metadata": {},
   "outputs": [
    {
     "data": {
      "text/plain": [
       "<seaborn.axisgrid.FacetGrid at 0x7f7c237beee0>"
      ]
     },
     "execution_count": 16,
     "metadata": {},
     "output_type": "execute_result"
    },
    {
     "data": {
      "image/png": "[encoded data removed]",
      "text/plain": [
       "<Figure size 500x500 with 1 Axes>"
      ]
     },
     "metadata": {},
     "output_type": "display_data"
    }
   ],
   "source": [
    "sns.relplot(data=train.sample(50000), x='sqft', y='tax_value', kind='scatter', marker='.')\n",
    "#plt.ylim(top=1500000, bottom =0)"
   ]
  },
  {
   "cell_type": "markdown",
   "id": "c194c653-6c54-4e6a-8a25-467b16d7ed4b",
   "metadata": {},
   "source": [
    "4. Calculate the sum of squared errors, explained sum of squares, total sum of squares, mean squared error, and root mean squared error for your model."
   ]
  },
  {
   "cell_type": "code",
   "execution_count": 17,
   "id": "1dda929b-9c48-46fb-ab59-1a9f8715631c",
   "metadata": {},
   "outputs": [],
   "source": [
    "preds['residual^2'] = preds.residual ** 2"
   ]
  },
  {
   "cell_type": "code",
   "execution_count": 18,
   "id": "70b73866-c7d1-4389-9da2-0bb7a46c7f16",
   "metadata": {},
   "outputs": [],
   "source": [
    "preds['residual_baseline^2'] = preds.residual_baseline ** 2"
   ]
  },
  {
   "cell_type": "code",
   "execution_count": 19,
   "id": "205e2463-4553-49bb-9da7-2a87d431bf56",
   "metadata": {},
   "outputs": [
    {
     "name": "stdout",
     "output_type": "stream",
     "text": [
      "SSE =  3.3195926506257526e+28\n"
     ]
    }
   ],
   "source": [
    "# SSE\n",
    "SSE = sum(preds['residual^2'])\n",
    "print(\"SSE = \", SSE)"
   ]
  },
  {
   "cell_type": "code",
   "execution_count": 20,
   "id": "c6b23186-2e97-402a-af9d-efdcdb7d5caa",
   "metadata": {},
   "outputs": [
    {
     "data": {
      "text/plain": [
       "2045960    6.078333e+21\n",
       "1345346    2.124627e+21\n",
       "761422     2.540538e+21\n",
       "1667958    1.110920e+22\n",
       "564887     1.227566e+21\n",
       "               ...     \n",
       "1471524    3.745775e+21\n",
       "1663904    2.971370e+20\n",
       "531072     2.125385e+21\n",
       "1702801    1.016521e+23\n",
       "934188     3.963169e+20\n",
       "Name: yhat, Length: 1198531, dtype: float64"
      ]
     },
     "execution_count": 20,
     "metadata": {},
     "output_type": "execute_result"
    }
   ],
   "source": [
    "#ESS\n",
    "ESS = ((preds.yhat - preds.tax_value.mean())**2)\n",
    "ESS"
   ]
  },
  {
   "cell_type": "code",
   "execution_count": 21,
   "id": "1517cb79-4206-421b-8e5c-b62a840105ae",
   "metadata": {},
   "outputs": [
    {
     "name": "stdout",
     "output_type": "stream",
     "text": [
      "MSE =  2.769717805067831e+22\n"
     ]
    }
   ],
   "source": [
    "# MSE\n",
    "MSE = SSE/len(preds)\n",
    "print(\"MSE = \", MSE)"
   ]
  },
  {
   "cell_type": "code",
   "execution_count": 22,
   "id": "9142263b-9a75-447b-880a-4fb1705edcac",
   "metadata": {},
   "outputs": [
    {
     "name": "stdout",
     "output_type": "stream",
     "text": [
      "RMSE =  166424691829.90338\n"
     ]
    }
   ],
   "source": [
    "# RMSE\n",
    "RMSE = sqrt(MSE)\n",
    "print(\"RMSE = \", RMSE)"
   ]
  },
  {
   "cell_type": "code",
   "execution_count": null,
   "id": "aefce87e-d46a-4ee1-91f5-b0c6cfb809d7",
   "metadata": {},
   "outputs": [],
   "source": []
  },
  {
   "cell_type": "markdown",
   "id": "541c903a-b8e1-4617-85fb-0d18543d43c1",
   "metadata": {},
   "source": [
    "5. Calculate the sum of squared errors, mean squared error, and root mean squared error for the baseline model (i.e. a model that always predicts the average taxvaluedollarcnt amount)."
   ]
  },
  {
   "cell_type": "code",
   "execution_count": 23,
   "id": "c5631c82-973c-43e1-a80f-03c158ad5162",
   "metadata": {},
   "outputs": [],
   "source": [
    "SSE_baseline = sum(preds['residual_baseline^2'])\n",
    "MSE_baseline = SSE_baseline/len(preds)\n",
    "RMSE_baseline = sqrt(MSE_baseline)"
   ]
  },
  {
   "cell_type": "code",
   "execution_count": 24,
   "id": "46616be0-bde1-4ac3-a3bf-f16c5adeda9d",
   "metadata": {},
   "outputs": [
    {
     "name": "stdout",
     "output_type": "stream",
     "text": [
      "SSE - baseline =  5.693976870710815e+17\n",
      "MSE baseline =  475079649229.83344\n",
      "RMSE baseline =  689260.218806971\n"
     ]
    }
   ],
   "source": [
    "print(\"SSE - baseline = \", SSE_baseline)\n",
    "print(\"MSE baseline = \", MSE_baseline)\n",
    "print(\"RMSE baseline = \", RMSE_baseline)"
   ]
  },
  {
   "cell_type": "markdown",
   "id": "d5e3f436-bd3f-4589-b631-94c41a527a22",
   "metadata": {},
   "source": [
    "6. Write python code that compares the sum of squared errors for your model against the sum of squared errors for the baseline model and outputs whether or not your model performs better than the baseline model."
   ]
  },
  {
   "cell_type": "code",
   "execution_count": 25,
   "id": "942c14fd-f7c7-4bf0-b9b0-ab586c00ff03",
   "metadata": {},
   "outputs": [
    {
     "name": "stdout",
     "output_type": "stream",
     "text": [
      "My OSL model performs worse than baseline.\n"
     ]
    }
   ],
   "source": [
    "if SSE < SSE_baseline:\n",
    "    print('My OSL model performs better than baseline')\n",
    "else:\n",
    "    print('My OSL model performs worse than baseline.')\n"
   ]
  },
  {
   "cell_type": "markdown",
   "id": "fb598577-209c-4022-a178-b015a64be8d3",
   "metadata": {},
   "source": [
    "7. What is the amount of variance explained in your model?"
   ]
  },
  {
   "cell_type": "code",
   "execution_count": 26,
   "id": "e9c50874-5f8c-40dd-b6cd-7221802c88e2",
   "metadata": {},
   "outputs": [
    {
     "data": {
      "text/plain": [
       "-58300072619.61396"
      ]
     },
     "execution_count": 26,
     "metadata": {},
     "output_type": "execute_result"
    }
   ],
   "source": [
    "r2_score(preds.tax_value, preds.yhat)"
   ]
  },
  {
   "cell_type": "code",
   "execution_count": 27,
   "id": "067fb0f6-390d-49c2-9a02-b07ac4120d9f",
   "metadata": {},
   "outputs": [
    {
     "data": {
      "text/plain": [
       "-40265987016.8002"
      ]
     },
     "execution_count": 27,
     "metadata": {},
     "output_type": "execute_result"
    }
   ],
   "source": [
    "evs = explained_variance_score(preds.tax_value, preds.yhat)\n",
    "evs"
   ]
  },
  {
   "cell_type": "markdown",
   "id": "05724fd4-3404-4203-bf73-a5b4bebe2922",
   "metadata": {},
   "source": [
    "8. Is your model better than the baseline model?"
   ]
  },
  {
   "cell_type": "code",
   "execution_count": 28,
   "id": "788676a7-1c71-4090-b547-1228d4468c42",
   "metadata": {},
   "outputs": [
    {
     "name": "stdout",
     "output_type": "stream",
     "text": [
      "My model RMSE performs worse than baseline.\n"
     ]
    }
   ],
   "source": [
    "if RMSE < RMSE_baseline:\n",
    "    print('My model RMSE performs better than baseline')\n",
    "else:\n",
    "    print('My model RMSE performs worse than baseline.')"
   ]
  },
  {
   "cell_type": "markdown",
   "id": "ed163626-faf0-43b8-924c-45f693ab7a67",
   "metadata": {},
   "source": [
    "9. Create a file named evaluate.py that contains the following functions.\n",
    "\n",
    "- plot_residuals(y, yhat): creates a residual plot\n",
    "- regression_errors(y, yhat): returns the following values:\n",
    "    - sum of squared errors (SSE)\n",
    "    - explained sum of squares (ESS)\n",
    "    - total sum of squares (TSS)\n",
    "    - mean squared error (MSE)\n",
    "    - root mean squared error (RMSE)\n",
    "- baseline_mean_errors(y): computes the SSE, MSE, and RMSE for the baseline model\n",
    "- better_than_baseline(y, yhat): returns true if your model performs better than the baseline, otherwise false"
   ]
  },
  {
   "cell_type": "code",
   "execution_count": 29,
   "id": "8420e88a-aa5d-4ca4-9a94-e4c7b1b9398f",
   "metadata": {},
   "outputs": [
    {
     "name": "stdout",
     "output_type": "stream",
     "text": [
      "SSE manual == SSE sklearn:  False\n",
      "SSE manual - baseline == SSE sklearn - baseline:  False\n",
      "SSE = 33195926506257525759417516032.00\n",
      "SSE Baseline = 569397687071081472.00\n",
      "MSE manual == MSE sklearn:  False\n",
      "MSE manual - baseline == MSE sklearn - baseline:  False\n",
      "SSE = 27697178050678308732928.00\n",
      "SSE Baseline = 475079649229.83\n",
      "RMSE manual == RMSE skearn:  False\n",
      "RMSE manual - baseline == RMSE skearn - baseline:  False\n",
      "SSE = 166424691829.90\n",
      "SSE Baseline = 689260.22\n",
      "Explained Variance =  0.288\n",
      "Percent of variance in y explained by x = 28.8%\n"
     ]
    }
   ],
   "source": [
    "def regression_errors(train_s):\n",
    "    \"\"\"\n",
    "    This function takes in a Zillow DataFrame and outputs evaluation metrics\n",
    "    \"\"\"\n",
    "    \n",
    "    model_t = LinearRegression().fit(train_s[['sqft','bedrooms','bathrooms']], train_s.tax_value)\n",
    "    \n",
    "    train_s['yhat'] = model_t.predict(train_s[['sqft','bedrooms','bathrooms']])\n",
    "    \n",
    "    train_s['residual'] = train_s['yhat'] - train_s['tax_value']\n",
    "    \n",
    "    train_s['yhat_baseline'] = train_s['tax_value'].mean()\n",
    "    \n",
    "    train_s['residual_baseline'] = train_s['yhat_baseline'] - train_s['tax_value']\n",
    "    #SSE\n",
    "    SSE2 = mean_squared_error(train_s.tax_value, train_s.yhat)*len(train_s)\n",
    "    SSE2_baseline = mean_squared_error(train_s.tax_value, train_s.yhat_baseline)*len(train_s)\n",
    "\n",
    "    print(\"SSE manual == SSE sklearn: \", SSE == SSE2) \n",
    "    print(\"SSE manual - baseline == SSE sklearn - baseline: \", SSE_baseline == SSE2_baseline) \n",
    "    print(f'SSE = {SSE:.2f}')\n",
    "    print(f'SSE Baseline = {SSE_baseline:.2f}')\n",
    "    #MSE\n",
    "    MSE2 = mean_squared_error(train_s.tax_value, train_s.yhat)\n",
    "    MSE2_baseline = mean_squared_error(train_s.tax_value, train_s.yhat_baseline)\n",
    "\n",
    "    print(\"MSE manual == MSE sklearn: \", MSE == MSE2) \n",
    "    print(\"MSE manual - baseline == MSE sklearn - baseline: \", MSE_baseline == MSE2_baseline) \n",
    "    print(f'SSE = {MSE:.2f}')\n",
    "    print(f'SSE Baseline = {MSE_baseline:.2f}')\n",
    "    #RMSE\n",
    "    RMSE2 = mean_squared_error(train_s.tax_value, train_s.yhat, squared=False)\n",
    "    RMSE2_baseline = mean_squared_error(train_s.tax_value, train_s.yhat_baseline, squared=False)\n",
    "\n",
    "    print(\"RMSE manual == RMSE skearn: \", RMSE == RMSE2) \n",
    "    print(\"RMSE manual - baseline == RMSE skearn - baseline: \", RMSE_baseline == RMSE2_baseline)\n",
    "    print(f'SSE = {RMSE:.2f}')\n",
    "    print(f'SSE Baseline = {RMSE_baseline:.2f}')\n",
    "    # sklearn.metrics.explained_variance_score\n",
    "\n",
    "    evs = explained_variance_score(train_s.tax_value, train_s.yhat)\n",
    "    print('Explained Variance = ', round(evs,3))\n",
    "    print(f'Percent of variance in y explained by x = {round(evs*100,1)}%')\n",
    "\n",
    "\n",
    "#Running the function\n",
    "regression_errors(train_s)"
   ]
  },
  {
   "cell_type": "code",
   "execution_count": 30,
   "id": "eb58c356-299d-4864-9869-9675fa6de6ab",
   "metadata": {},
   "outputs": [
    {
     "data": {
      "image/png": "[encoded data removed]",
      "text/plain": [
       "<Figure size 500x500 with 1 Axes>"
      ]
     },
     "metadata": {},
     "output_type": "display_data"
    }
   ],
   "source": [
    "def plot_residuals(preds):\n",
    "    sns.relplot(data = preds, x = 'tax_value', y = 'yhat', kind='scatter', marker='.')\n",
    "plot_residuals(preds)"
   ]
  },
  {
   "cell_type": "code",
   "execution_count": null,
   "id": "9192c80d-62af-4cd5-8a25-abce50ade4f0",
   "metadata": {},
   "outputs": [],
   "source": []
  }
 ],
 "metadata": {
  "kernelspec": {
   "display_name": "Python 3 (ipykernel)",
   "language": "python",
   "name": "python3"
  },
  "language_info": {
   "codemirror_mode": {
    "name": "ipython",
    "version": 3
   },
   "file_extension": ".py",
   "mimetype": "text/x-python",
   "name": "python",
   "nbconvert_exporter": "python",
   "pygments_lexer": "ipython3",
   "version": "3.9.15"
  }
 },
 "nbformat": 4,
 "nbformat_minor": 5
}
