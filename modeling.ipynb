{
 "cells": [
  {
   "cell_type": "code",
   "execution_count": 1,
   "id": "398a6954-6db0-4c8c-92db-ddbd74e9be87",
   "metadata": {},
   "outputs": [],
   "source": [
    "import pandas as pd\n",
    "import numpy as np\n",
    "import matplotlib.pyplot as plt\n",
    "import seaborn as sns\n",
    "\n",
    "#These imports were constructed\n",
    "from wrangle import train_validate, wrangle_zillow, scale_zillow, find_baseline, train_val_test\n",
    "\n",
    "#Removes warnings and imporves asthenics\n",
    "import warnings\n",
    "warnings.filterwarnings(\"ignore\")\n",
    "\n",
    "#Sklearn\n",
    "from sklearn.preprocessing import PolynomialFeatures\n",
    "from sklearn.linear_model import LinearRegression, LassoLars, TweedieRegressor\n",
    "from sklearn.metrics import mean_squared_error"
   ]
  },
  {
   "cell_type": "code",
   "execution_count": 2,
   "id": "7b30c43d-afb2-4d0b-b35f-560e4c9086ba",
   "metadata": {},
   "outputs": [],
   "source": [
    "#Sets options to show more stuff\n",
    "pd.options.display.max_columns = None\n",
    "pd.options.display.width = 100\n",
    "pd.options.display.max_colwidth = None\n",
    "pd.options.display.max_rows = 200"
   ]
  },
  {
   "cell_type": "markdown",
   "id": "944a031e-436b-4a21-b8b4-09ee45fd2002",
   "metadata": {},
   "source": [
    "# Select a dataset with a continuous target variable."
   ]
  },
  {
   "cell_type": "code",
   "execution_count": 3,
   "id": "4e4275c4-7b5f-4aec-adfe-2e1c6164b08d",
   "metadata": {},
   "outputs": [],
   "source": [
    "df = wrangle_zillow()"
   ]
  },
  {
   "cell_type": "code",
   "execution_count": 4,
   "id": "842226d7-f303-4cfb-8dbc-ddeecb644887",
   "metadata": {},
   "outputs": [],
   "source": [
    "target_col = 'tax_value'"
   ]
  },
  {
   "cell_type": "code",
   "execution_count": 5,
   "id": "549e54d7-8055-40b9-963f-211b32f327d2",
   "metadata": {},
   "outputs": [
    {
     "name": "stdout",
     "output_type": "stream",
     "text": [
      "<class 'pandas.core.frame.DataFrame'>\n",
      "RangeIndex: 2131116 entries, 0 to 2131115\n",
      "Data columns (total 7 columns):\n",
      " #   Column      Dtype  \n",
      "---  ------      -----  \n",
      " 0   bedrooms    float64\n",
      " 1   bathrooms   float64\n",
      " 2   sqft        float64\n",
      " 3   tax_value   float64\n",
      " 4   year_built  float64\n",
      " 5   tax_amount  float64\n",
      " 6   fips        float64\n",
      "dtypes: float64(7)\n",
      "memory usage: 113.8 MB\n"
     ]
    }
   ],
   "source": [
    "df.info()"
   ]
  },
  {
   "cell_type": "markdown",
   "id": "cb55d954-74ac-41a7-8ffd-0b86b0ce48f5",
   "metadata": {},
   "source": [
    "# Be sure your data is prepared (no missing values, numeric datatypes) and split into samples."
   ]
  },
  {
   "cell_type": "code",
   "execution_count": 6,
   "id": "3dfe0a40-8010-4b68-8f64-df7ed7eb26ce",
   "metadata": {},
   "outputs": [],
   "source": [
    "#Create dummy columns of my categorical features\n",
    "df = pd.get_dummies(columns=['bedrooms', 'bathrooms', 'fips'], data=df)"
   ]
  },
  {
   "cell_type": "code",
   "execution_count": 7,
   "id": "470a61b6-5a46-44b6-8072-bd0b6e45aa2d",
   "metadata": {},
   "outputs": [],
   "source": [
    "train, val, test = train_validate(df)"
   ]
  },
  {
   "cell_type": "code",
   "execution_count": 8,
   "id": "92345643-e28f-460f-82a8-80ef6b1c6f6b",
   "metadata": {},
   "outputs": [],
   "source": [
    "train_rscaled1, val_rscaled1, test_rscaled1 = scale_zillow(train, val, test)"
   ]
  },
  {
   "cell_type": "code",
   "execution_count": 9,
   "id": "9e946f33-2115-4aa1-943c-95579a71987a",
   "metadata": {},
   "outputs": [],
   "source": [
    "X_train, y_train, X_val, y_val, X_test, y_test = train_val_test(train_rscaled1, val_rscaled1, test_rscaled1, target_col)"
   ]
  },
  {
   "cell_type": "markdown",
   "id": "85082c46-8024-460f-9bbe-9cc1d7691b95",
   "metadata": {},
   "source": [
    "# Work through all of the steps outlined in the lesson, from setting the baseline to selected a model and evaluating the final model on your test data."
   ]
  },
  {
   "cell_type": "code",
   "execution_count": 10,
   "id": "44ba82cc-3de4-4780-b324-b74b03a0dfeb",
   "metadata": {},
   "outputs": [
    {
     "data": {
      "text/plain": [
       "826977     133059.0\n",
       "1188647    248917.0\n",
       "400580     340689.0\n",
       "1390551    240199.0\n",
       "1625307    409199.0\n",
       "Name: tax_value, dtype: float64"
      ]
     },
     "execution_count": 10,
     "metadata": {},
     "output_type": "execute_result"
    }
   ],
   "source": [
    "y_train.head()"
   ]
  },
  {
   "cell_type": "code",
   "execution_count": 11,
   "id": "5eaf66da-a35f-443d-aeda-acee8eb0fa65",
   "metadata": {},
   "outputs": [
    {
     "name": "stdout",
     "output_type": "stream",
     "text": [
      "RMSE Mean training baseline: 435,471\n",
      "RMSE Mean validate baseline: 438,630\n",
      "The difference:   -3,159\n",
      "*****************************************\n",
      "RMSE Median training baseline: 448,737\n",
      "RMSE Median validate baseline: 452,039\n",
      "The difference:   -3,302\n"
     ]
    }
   ],
   "source": [
    "baseline = find_baseline(y_train)"
   ]
  },
  {
   "cell_type": "code",
   "execution_count": 12,
   "id": "ace53b3a-3dc0-49fc-8592-57704d4c3a2d",
   "metadata": {},
   "outputs": [],
   "source": [
    "#metrics\n",
    "rmse_scores = []"
   ]
  },
  {
   "cell_type": "markdown",
   "id": "6f738e5c-bc7f-4c49-9ba8-19c6b3269977",
   "metadata": {},
   "source": [
    "## LinearRegression(OLS)"
   ]
  },
  {
   "cell_type": "code",
   "execution_count": 13,
   "id": "be692a54-63ac-4d15-a0dc-9cfea86e5628",
   "metadata": {},
   "outputs": [],
   "source": [
    "lm = LinearRegression(normalize=True)"
   ]
  },
  {
   "cell_type": "code",
   "execution_count": 14,
   "id": "60d0ae71-2b46-4991-8aca-c019bf927391",
   "metadata": {},
   "outputs": [
    {
     "data": {
      "text/plain": [
       "LinearRegression(normalize=True)"
      ]
     },
     "execution_count": 14,
     "metadata": {},
     "output_type": "execute_result"
    }
   ],
   "source": [
    "lm.fit(X_train, y_train)"
   ]
  },
  {
   "cell_type": "code",
   "execution_count": 15,
   "id": "81dd02e6-51b1-49e0-8c8c-18565bad480e",
   "metadata": {},
   "outputs": [],
   "source": [
    "lm_preds = pd.DataFrame({'actual':y_train})"
   ]
  },
  {
   "cell_type": "code",
   "execution_count": 16,
   "id": "a9d3deb6-a82c-4510-9222-5d6b40b182a7",
   "metadata": {},
   "outputs": [],
   "source": [
    "lm_preds['pred_lm'] = lm.predict(X_train)"
   ]
  },
  {
   "cell_type": "code",
   "execution_count": 17,
   "id": "bce534ae-02fd-46e1-934d-45b6da880110",
   "metadata": {},
   "outputs": [],
   "source": [
    "lm_val_preds = pd.DataFrame({'actual':y_val})"
   ]
  },
  {
   "cell_type": "code",
   "execution_count": 18,
   "id": "58022f55-8796-4a06-96c2-0a5d8c92d1ff",
   "metadata": {},
   "outputs": [],
   "source": [
    "lm_val_preds['lm_val_preds'] = lm.predict(X_val)"
   ]
  },
  {
   "cell_type": "code",
   "execution_count": 19,
   "id": "0e5b1465-1e13-41df-a37c-03ea34d702ba",
   "metadata": {},
   "outputs": [
    {
     "data": {
      "text/html": [
       "<div>\n",
       "<style scoped>\n",
       "    .dataframe tbody tr th:only-of-type {\n",
       "        vertical-align: middle;\n",
       "    }\n",
       "\n",
       "    .dataframe tbody tr th {\n",
       "        vertical-align: top;\n",
       "    }\n",
       "\n",
       "    .dataframe thead th {\n",
       "        text-align: right;\n",
       "    }\n",
       "</style>\n",
       "<table border=\"1\" class=\"dataframe\">\n",
       "  <thead>\n",
       "    <tr style=\"text-align: right;\">\n",
       "      <th></th>\n",
       "      <th>actual</th>\n",
       "      <th>lm_val_preds</th>\n",
       "    </tr>\n",
       "  </thead>\n",
       "  <tbody>\n",
       "    <tr>\n",
       "      <th>1894038</th>\n",
       "      <td>65327.0</td>\n",
       "      <td>91192.0</td>\n",
       "    </tr>\n",
       "    <tr>\n",
       "      <th>1141135</th>\n",
       "      <td>217742.0</td>\n",
       "      <td>214400.0</td>\n",
       "    </tr>\n",
       "    <tr>\n",
       "      <th>90824</th>\n",
       "      <td>176120.0</td>\n",
       "      <td>170712.0</td>\n",
       "    </tr>\n",
       "    <tr>\n",
       "      <th>96180</th>\n",
       "      <td>616000.0</td>\n",
       "      <td>581552.0</td>\n",
       "    </tr>\n",
       "    <tr>\n",
       "      <th>1731006</th>\n",
       "      <td>336257.0</td>\n",
       "      <td>325344.0</td>\n",
       "    </tr>\n",
       "  </tbody>\n",
       "</table>\n",
       "</div>"
      ],
      "text/plain": [
       "           actual  lm_val_preds\n",
       "1894038   65327.0       91192.0\n",
       "1141135  217742.0      214400.0\n",
       "90824    176120.0      170712.0\n",
       "96180    616000.0      581552.0\n",
       "1731006  336257.0      325344.0"
      ]
     },
     "execution_count": 19,
     "metadata": {},
     "output_type": "execute_result"
    }
   ],
   "source": [
    "lm_val_preds.head()"
   ]
  },
  {
   "cell_type": "code",
   "execution_count": 20,
   "id": "0735d804-fd48-42e8-90cc-085c34d7736d",
   "metadata": {},
   "outputs": [],
   "source": [
    "rmse_train = mean_squared_error(lm_preds['actual'], lm_preds['pred_lm'], squared=False) "
   ]
  },
  {
   "cell_type": "code",
   "execution_count": 21,
   "id": "9e78a4bf-2417-427b-8e2d-5c92dbbad367",
   "metadata": {},
   "outputs": [],
   "source": [
    "rmse_val = mean_squared_error(lm_val_preds['actual'], lm_val_preds['lm_val_preds'], squared=False) "
   ]
  },
  {
   "cell_type": "code",
   "execution_count": 22,
   "id": "70ff6ebb-efdd-4b28-a3a9-9fd2c6c7ec00",
   "metadata": {},
   "outputs": [],
   "source": [
    "rmse_scores.append({'Model':'OLS Linear Regression',\n",
    "                    'RMSE on Train': rmse_train,\n",
    "                    'RMSE on Validate': rmse_val})"
   ]
  },
  {
   "cell_type": "code",
   "execution_count": 23,
   "id": "326fa250-342d-4750-be2b-3a106107ca8c",
   "metadata": {},
   "outputs": [
    {
     "data": {
      "text/plain": [
       "[{'Model': 'OLS Linear Regression',\n",
       "  'RMSE on Train': 69181.77739064753,\n",
       "  'RMSE on Validate': 69192.57636832046}]"
      ]
     },
     "execution_count": 23,
     "metadata": {},
     "output_type": "execute_result"
    }
   ],
   "source": [
    "rmse_scores"
   ]
  },
  {
   "cell_type": "markdown",
   "id": "5ca05ed2-2f3e-43fe-a57d-c68a5e46afe7",
   "metadata": {},
   "source": [
    "## LassoLars"
   ]
  },
  {
   "cell_type": "code",
   "execution_count": 24,
   "id": "6ff41b66-c941-4878-a1b2-0b27beb197e2",
   "metadata": {},
   "outputs": [],
   "source": [
    "lars = LassoLars(alpha=1.0)"
   ]
  },
  {
   "cell_type": "code",
   "execution_count": 25,
   "id": "a47ab71a-ba0a-442e-97a0-7845138229f2",
   "metadata": {},
   "outputs": [
    {
     "data": {
      "text/plain": [
       "LassoLars()"
      ]
     },
     "execution_count": 25,
     "metadata": {},
     "output_type": "execute_result"
    }
   ],
   "source": [
    "lars.fit(X_train, y_train)"
   ]
  },
  {
   "cell_type": "code",
   "execution_count": 26,
   "id": "2a17c6cb-e1b7-4f40-bdee-b03c918da84d",
   "metadata": {},
   "outputs": [],
   "source": [
    "ll_preds = pd.DataFrame({'actual':y_train})"
   ]
  },
  {
   "cell_type": "code",
   "execution_count": 27,
   "id": "33e8a13a-3ef0-4ad2-bce0-fe888dd8c682",
   "metadata": {},
   "outputs": [],
   "source": [
    "ll_preds['pred_ll'] = lars.predict(X_train)"
   ]
  },
  {
   "cell_type": "code",
   "execution_count": 28,
   "id": "a071676d-d2fc-4f02-aedf-4a0d689c6d19",
   "metadata": {},
   "outputs": [],
   "source": [
    "ll_val_preds = pd.DataFrame({'actual':y_val})"
   ]
  },
  {
   "cell_type": "code",
   "execution_count": 29,
   "id": "f3e01393-d528-46a1-9510-70a2afe4d333",
   "metadata": {},
   "outputs": [],
   "source": [
    "ll_val_preds['ll_val_preds'] = lars.predict(X_val)"
   ]
  },
  {
   "cell_type": "code",
   "execution_count": 30,
   "id": "73972d59-d9ed-4eed-80c9-a31ce082f34d",
   "metadata": {},
   "outputs": [
    {
     "data": {
      "text/html": [
       "<div>\n",
       "<style scoped>\n",
       "    .dataframe tbody tr th:only-of-type {\n",
       "        vertical-align: middle;\n",
       "    }\n",
       "\n",
       "    .dataframe tbody tr th {\n",
       "        vertical-align: top;\n",
       "    }\n",
       "\n",
       "    .dataframe thead th {\n",
       "        text-align: right;\n",
       "    }\n",
       "</style>\n",
       "<table border=\"1\" class=\"dataframe\">\n",
       "  <thead>\n",
       "    <tr style=\"text-align: right;\">\n",
       "      <th></th>\n",
       "      <th>actual</th>\n",
       "      <th>ll_val_preds</th>\n",
       "    </tr>\n",
       "  </thead>\n",
       "  <tbody>\n",
       "    <tr>\n",
       "      <th>1894038</th>\n",
       "      <td>65327.0</td>\n",
       "      <td>93357.056390</td>\n",
       "    </tr>\n",
       "    <tr>\n",
       "      <th>1141135</th>\n",
       "      <td>217742.0</td>\n",
       "      <td>210541.872743</td>\n",
       "    </tr>\n",
       "    <tr>\n",
       "      <th>90824</th>\n",
       "      <td>176120.0</td>\n",
       "      <td>167088.063551</td>\n",
       "    </tr>\n",
       "    <tr>\n",
       "      <th>96180</th>\n",
       "      <td>616000.0</td>\n",
       "      <td>578365.214951</td>\n",
       "    </tr>\n",
       "    <tr>\n",
       "      <th>1731006</th>\n",
       "      <td>336257.0</td>\n",
       "      <td>323196.334317</td>\n",
       "    </tr>\n",
       "  </tbody>\n",
       "</table>\n",
       "</div>"
      ],
      "text/plain": [
       "           actual   ll_val_preds\n",
       "1894038   65327.0   93357.056390\n",
       "1141135  217742.0  210541.872743\n",
       "90824    176120.0  167088.063551\n",
       "96180    616000.0  578365.214951\n",
       "1731006  336257.0  323196.334317"
      ]
     },
     "execution_count": 30,
     "metadata": {},
     "output_type": "execute_result"
    }
   ],
   "source": [
    "ll_val_preds.head()"
   ]
  },
  {
   "cell_type": "code",
   "execution_count": 31,
   "id": "f5c997a4-bceb-4520-a55f-0f9b9a171da1",
   "metadata": {},
   "outputs": [],
   "source": [
    "rmse_train = mean_squared_error(ll_preds['actual'], ll_preds['pred_ll'], squared=False) "
   ]
  },
  {
   "cell_type": "code",
   "execution_count": 32,
   "id": "998b8c4b-f88e-4042-b394-59bffda885f5",
   "metadata": {},
   "outputs": [],
   "source": [
    "rmse_val = mean_squared_error(ll_val_preds['actual'], ll_val_preds['ll_val_preds'], squared=False) "
   ]
  },
  {
   "cell_type": "code",
   "execution_count": 33,
   "id": "81578975-81a9-47e0-a66f-df62a2e1082d",
   "metadata": {},
   "outputs": [],
   "source": [
    "rmse_scores.append({'Model':'Lasso Lars',\n",
    "                    'RMSE on Train': rmse_train,\n",
    "                    'RMSE on Validate': rmse_val})"
   ]
  },
  {
   "cell_type": "code",
   "execution_count": 34,
   "id": "edacd673-741d-4dc8-9711-cb349528f6c2",
   "metadata": {},
   "outputs": [
    {
     "data": {
      "text/plain": [
       "[{'Model': 'OLS Linear Regression',\n",
       "  'RMSE on Train': 69181.77739064753,\n",
       "  'RMSE on Validate': 69192.57636832046},\n",
       " {'Model': 'Lasso Lars',\n",
       "  'RMSE on Train': 69400.93531965362,\n",
       "  'RMSE on Validate': 69418.54918411924}]"
      ]
     },
     "execution_count": 34,
     "metadata": {},
     "output_type": "execute_result"
    }
   ],
   "source": [
    "rmse_scores"
   ]
  },
  {
   "cell_type": "markdown",
   "id": "83e18162-8bec-495a-9294-7a745b5447c4",
   "metadata": {},
   "source": [
    "## TweedieRegressor (GLM)"
   ]
  },
  {
   "cell_type": "code",
   "execution_count": 35,
   "id": "fbebc1cd-5d28-4c8b-9b3d-75515ba76701",
   "metadata": {},
   "outputs": [],
   "source": [
    "glm = TweedieRegressor(power=1, alpha=0)"
   ]
  },
  {
   "cell_type": "code",
   "execution_count": 36,
   "id": "42870afb-dcb3-4db6-a8ab-ad289f75acfa",
   "metadata": {},
   "outputs": [
    {
     "data": {
      "text/plain": [
       "TweedieRegressor(alpha=0, power=1)"
      ]
     },
     "execution_count": 36,
     "metadata": {},
     "output_type": "execute_result"
    }
   ],
   "source": [
    "glm.fit(X_train, y_train)"
   ]
  },
  {
   "cell_type": "code",
   "execution_count": 37,
   "id": "b94accaf-30d4-4426-b1f0-3674dfc8428a",
   "metadata": {},
   "outputs": [],
   "source": [
    "glm_preds = pd.DataFrame({'actual':y_train})"
   ]
  },
  {
   "cell_type": "code",
   "execution_count": 38,
   "id": "2fccb1fb-c5e3-4137-9def-52e314feccb9",
   "metadata": {},
   "outputs": [],
   "source": [
    "glm_preds['pred_glm'] = glm.predict(X_train)"
   ]
  },
  {
   "cell_type": "code",
   "execution_count": 39,
   "id": "3d43adb5-bbd2-4493-83e1-7f3799c1a66c",
   "metadata": {},
   "outputs": [],
   "source": [
    "glm_val_preds = pd.DataFrame({'actual':y_val})"
   ]
  },
  {
   "cell_type": "code",
   "execution_count": 40,
   "id": "285818e6-0f00-4431-a47c-ffcbddc0d62c",
   "metadata": {},
   "outputs": [],
   "source": [
    "glm_val_preds['glm_val_preds'] = glm.predict(X_val)"
   ]
  },
  {
   "cell_type": "code",
   "execution_count": 41,
   "id": "1312fbd8-8ad3-4b95-b213-20142dece909",
   "metadata": {},
   "outputs": [],
   "source": [
    "rmse_train = mean_squared_error(glm_preds['actual'], glm_preds['pred_glm'], squared=False) "
   ]
  },
  {
   "cell_type": "code",
   "execution_count": 42,
   "id": "4338db09-77a7-421e-98f4-5fb8693595c5",
   "metadata": {},
   "outputs": [],
   "source": [
    "rmse_val = mean_squared_error(glm_val_preds['actual'], glm_val_preds['glm_val_preds'], squared=False) "
   ]
  },
  {
   "cell_type": "code",
   "execution_count": 43,
   "id": "7337edce-52f0-4406-a915-8920cf18f7f8",
   "metadata": {},
   "outputs": [],
   "source": [
    "rmse_scores.append({'Model':'TweedieRegressor',\n",
    "                    'RMSE on Train': rmse_train,\n",
    "                    'RMSE on Validate': rmse_val})"
   ]
  },
  {
   "cell_type": "code",
   "execution_count": 44,
   "id": "1f58b34f-bb44-4051-9061-6b10c1ec1628",
   "metadata": {},
   "outputs": [
    {
     "data": {
      "text/plain": [
       "[{'Model': 'OLS Linear Regression',\n",
       "  'RMSE on Train': 69181.77739064753,\n",
       "  'RMSE on Validate': 69192.57636832046},\n",
       " {'Model': 'Lasso Lars',\n",
       "  'RMSE on Train': 69400.93531965362,\n",
       "  'RMSE on Validate': 69418.54918411924},\n",
       " {'Model': 'TweedieRegressor',\n",
       "  'RMSE on Train': 435471.3127599482,\n",
       "  'RMSE on Validate': 438631.04560702544}]"
      ]
     },
     "execution_count": 44,
     "metadata": {},
     "output_type": "execute_result"
    }
   ],
   "source": [
    "rmse_scores"
   ]
  },
  {
   "cell_type": "markdown",
   "id": "1734232d-8b12-4430-b595-062abddc771a",
   "metadata": {},
   "source": [
    "## Polynomial Regression"
   ]
  },
  {
   "cell_type": "code",
   "execution_count": 45,
   "id": "d870d120-551b-4a46-951d-63e2c6013817",
   "metadata": {},
   "outputs": [],
   "source": [
    "# make the polynomial features to get a new set of features\n",
    "pf = PolynomialFeatures(degree=2)"
   ]
  },
  {
   "cell_type": "code",
   "execution_count": 46,
   "id": "d9c9fb99-c69e-4cee-9b30-6275a32f9298",
   "metadata": {},
   "outputs": [],
   "source": [
    "# fit and transform X_train_scaled\n",
    "X_train_degree2 = pf.fit_transform(X_train)"
   ]
  },
  {
   "cell_type": "code",
   "execution_count": 47,
   "id": "c50b1c69-138c-492b-bf67-7f92acb46681",
   "metadata": {},
   "outputs": [],
   "source": [
    "# transform X_validate_scaled & X_test_scaled\n",
    "X_validate_degree2 = pf.transform(X_val)\n",
    "X_test_degree2 = pf.transform(X_test)"
   ]
  },
  {
   "cell_type": "markdown",
   "id": "73133e91-5dc5-427c-887b-560df9bf8a26",
   "metadata": {},
   "source": [
    "### Linear Regression"
   ]
  },
  {
   "cell_type": "code",
   "execution_count": 48,
   "id": "1944bd00-2952-4267-8e6f-31190458f37a",
   "metadata": {},
   "outputs": [],
   "source": [
    "lm2 = LinearRegression(normalize=True)"
   ]
  },
  {
   "cell_type": "code",
   "execution_count": 49,
   "id": "654a8664-5f54-4ecb-bb59-0e9ea5d4ae97",
   "metadata": {},
   "outputs": [
    {
     "data": {
      "text/plain": [
       "LinearRegression(normalize=True)"
      ]
     },
     "execution_count": 49,
     "metadata": {},
     "output_type": "execute_result"
    }
   ],
   "source": [
    "lm2.fit(X_train_degree2, y_train)"
   ]
  },
  {
   "cell_type": "code",
   "execution_count": 50,
   "id": "5fca7db9-ec53-45bb-9523-541d121faa0f",
   "metadata": {},
   "outputs": [],
   "source": [
    "lm2_preds = pd.DataFrame({'actual':y_train})"
   ]
  },
  {
   "cell_type": "code",
   "execution_count": 51,
   "id": "100e25a3-3393-420f-8279-4995c9b907d7",
   "metadata": {},
   "outputs": [],
   "source": [
    "lm2_preds['pred_lm2'] = lm2.predict(X_train_degree2)"
   ]
  },
  {
   "cell_type": "code",
   "execution_count": 52,
   "id": "3d51fd68-7e0b-4c58-8d9e-d180c66414a9",
   "metadata": {},
   "outputs": [],
   "source": [
    "lm2_val_preds = pd.DataFrame({'actual':y_val})"
   ]
  },
  {
   "cell_type": "code",
   "execution_count": 54,
   "id": "093e705d-dee8-4788-9b5a-878afaaa2e29",
   "metadata": {},
   "outputs": [],
   "source": [
    "lm2_val_preds['lm2_val_preds'] = lm2.predict(X_validate_degree2)"
   ]
  },
  {
   "cell_type": "code",
   "execution_count": 55,
   "id": "15a823d2-4138-46dc-aec2-308fd1a7ab49",
   "metadata": {},
   "outputs": [],
   "source": [
    "rmse_train = mean_squared_error(lm2_preds['actual'], lm2_preds['pred_lm2'], squared=False) "
   ]
  },
  {
   "cell_type": "code",
   "execution_count": 56,
   "id": "36493fb6-28c2-4698-844d-db9de4231d30",
   "metadata": {},
   "outputs": [],
   "source": [
    "rmse_val = mean_squared_error(lm2_val_preds['actual'], lm2_val_preds['lm2_val_preds'], squared=False) "
   ]
  },
  {
   "cell_type": "code",
   "execution_count": 57,
   "id": "f1c5a689-3b48-4cf3-8e31-306ba808bbf3",
   "metadata": {},
   "outputs": [],
   "source": [
    "rmse_scores.append({'Model':'Polynomial Regression',\n",
    "                    'RMSE on Train': rmse_train,\n",
    "                    'RMSE on Validate': rmse_val})"
   ]
  },
  {
   "cell_type": "code",
   "execution_count": 58,
   "id": "f522044e-1cec-409f-bf38-42496fc31d83",
   "metadata": {},
   "outputs": [
    {
     "data": {
      "text/plain": [
       "[{'Model': 'OLS Linear Regression',\n",
       "  'RMSE on Train': 69181.77739064753,\n",
       "  'RMSE on Validate': 69192.57636832046},\n",
       " {'Model': 'Lasso Lars',\n",
       "  'RMSE on Train': 69400.93531965362,\n",
       "  'RMSE on Validate': 69418.54918411924},\n",
       " {'Model': 'TweedieRegressor',\n",
       "  'RMSE on Train': 435471.3127599482,\n",
       "  'RMSE on Validate': 438631.04560702544},\n",
       " {'Model': 'Polynomial Regression',\n",
       "  'RMSE on Train': 66661.85812112724,\n",
       "  'RMSE on Validate': 1.2394215160193334e+16}]"
      ]
     },
     "execution_count": 58,
     "metadata": {},
     "output_type": "execute_result"
    }
   ],
   "source": [
    "rmse_scores"
   ]
  },
  {
   "cell_type": "code",
   "execution_count": null,
   "id": "29a4d5dd-70f4-4387-91e9-20cac3e3bb08",
   "metadata": {},
   "outputs": [],
   "source": []
  }
 ],
 "metadata": {
  "kernelspec": {
   "display_name": "Python 3 (ipykernel)",
   "language": "python",
   "name": "python3"
  },
  "language_info": {
   "codemirror_mode": {
    "name": "ipython",
    "version": 3
   },
   "file_extension": ".py",
   "mimetype": "text/x-python",
   "name": "python",
   "nbconvert_exporter": "python",
   "pygments_lexer": "ipython3",
   "version": "3.9.15"
  }
 },
 "nbformat": 4,
 "nbformat_minor": 5
}
