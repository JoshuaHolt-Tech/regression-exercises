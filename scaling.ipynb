{
 "cells": [
  {
   "cell_type": "code",
   "execution_count": 1,
   "id": "85e271ac-b729-49cc-80de-1b34d167cde3",
   "metadata": {
    "tags": []
   },
   "outputs": [],
   "source": [
    "#Importing required packages and files\n",
    "import pandas as pd\n",
    "import numpy as np\n",
    "from scipy import stats\n",
    "import matplotlib.pyplot as plt\n",
    "import seaborn as sns\n",
    "import os\n",
    "\n",
    "#These imports were constructed\n",
    "from wrangle import wrangle_zillow, train_validate\n",
    "\n",
    "#Tools to build machine learning models and reports\n",
    "from sklearn.model_selection import train_test_split\n",
    "import sklearn.preprocessing\n",
    "#Removes warnings and imporves asthenics\n",
    "import warnings\n",
    "#warnings.filterwarnings(\"ignore\")\n",
    "\n",
    "#Sets an option to show all columns\n",
    "pd.options.display.max_columns = None\n",
    "pd.options.display.width = 100\n",
    "pd.options.display.max_colwidth = None\n",
    "pd.options.display.max_rows = 200\n"
   ]
  },
  {
   "cell_type": "markdown",
   "id": "359e5526-d723-4a6d-82e4-836630e5c913",
   "metadata": {},
   "source": [
    "# Scaling Exercises:"
   ]
  },
  {
   "cell_type": "code",
   "execution_count": 2,
   "id": "1355ace2-63e0-4c84-bac2-2eaa4cb713bb",
   "metadata": {},
   "outputs": [
    {
     "data": {
      "text/html": [
       "<div>\n",
       "<style scoped>\n",
       "    .dataframe tbody tr th:only-of-type {\n",
       "        vertical-align: middle;\n",
       "    }\n",
       "\n",
       "    .dataframe tbody tr th {\n",
       "        vertical-align: top;\n",
       "    }\n",
       "\n",
       "    .dataframe thead th {\n",
       "        text-align: right;\n",
       "    }\n",
       "</style>\n",
       "<table border=\"1\" class=\"dataframe\">\n",
       "  <thead>\n",
       "    <tr style=\"text-align: right;\">\n",
       "      <th></th>\n",
       "      <th>Feature</th>\n",
       "      <th>Description</th>\n",
       "    </tr>\n",
       "  </thead>\n",
       "  <tbody>\n",
       "    <tr>\n",
       "      <th>4</th>\n",
       "      <td>'bedroomcnt'</td>\n",
       "      <td>Number of bedrooms in home</td>\n",
       "    </tr>\n",
       "    <tr>\n",
       "      <th>3</th>\n",
       "      <td>'bathroomcnt'</td>\n",
       "      <td>Number of bathrooms in home including fractional bathrooms</td>\n",
       "    </tr>\n",
       "    <tr>\n",
       "      <th>11</th>\n",
       "      <td>'calculatedfinishedsquarefeet'</td>\n",
       "      <td>Calculated total finished living area of the home</td>\n",
       "    </tr>\n",
       "    <tr>\n",
       "      <th>51</th>\n",
       "      <td>'taxvaluedollarcnt'</td>\n",
       "      <td>The total tax assessed value of the parcel</td>\n",
       "    </tr>\n",
       "    <tr>\n",
       "      <th>50</th>\n",
       "      <td>'yearbuilt'</td>\n",
       "      <td>The Year the principal residence was built</td>\n",
       "    </tr>\n",
       "    <tr>\n",
       "      <th>54</th>\n",
       "      <td>'taxamount'</td>\n",
       "      <td>The total property tax assessed for that assessment year</td>\n",
       "    </tr>\n",
       "    <tr>\n",
       "      <th>17</th>\n",
       "      <td>'fips'</td>\n",
       "      <td>Federal Information Processing Standard code -  see https://en.wikipedia.org/wiki/FIPS_county_code for more details</td>\n",
       "    </tr>\n",
       "  </tbody>\n",
       "</table>\n",
       "</div>"
      ],
      "text/plain": [
       "                           Feature  \\\n",
       "4                     'bedroomcnt'   \n",
       "3                    'bathroomcnt'   \n",
       "11  'calculatedfinishedsquarefeet'   \n",
       "51             'taxvaluedollarcnt'   \n",
       "50                     'yearbuilt'   \n",
       "54                     'taxamount'   \n",
       "17                          'fips'   \n",
       "\n",
       "                                                                                                             Description  \n",
       "4                                                                                            Number of bedrooms in home   \n",
       "3                                                             Number of bathrooms in home including fractional bathrooms  \n",
       "11                                                                    Calculated total finished living area of the home   \n",
       "51                                                                            The total tax assessed value of the parcel  \n",
       "50                                                                           The Year the principal residence was built   \n",
       "54                                                              The total property tax assessed for that assessment year  \n",
       "17   Federal Information Processing Standard code -  see https://en.wikipedia.org/wiki/FIPS_county_code for more details  "
      ]
     },
     "execution_count": 2,
     "metadata": {},
     "output_type": "execute_result"
    }
   ],
   "source": [
    "#Found schema on kaggle site\n",
    "schema = pd.read_excel('zillow_data_dictionary.xlsx')\n",
    "#schema\n",
    "schema.loc[[4, 3, 11, 51, 50, 54, 17]]"
   ]
  },
  {
   "cell_type": "code",
   "execution_count": 3,
   "id": "0627d780-6473-49e7-9578-274515166ff8",
   "metadata": {},
   "outputs": [],
   "source": [
    "#Get data:\n",
    "master_df = wrangle_zillow()"
   ]
  },
  {
   "cell_type": "code",
   "execution_count": 4,
   "id": "5c8bc2b6-0744-49f2-a01f-3f16681fa0a0",
   "metadata": {},
   "outputs": [],
   "source": [
    "#Split data:\n",
    "train, val, test = train_validate(master_df)"
   ]
  },
  {
   "cell_type": "code",
   "execution_count": 5,
   "id": "054eda85-0070-4e25-bb45-2624564df084",
   "metadata": {},
   "outputs": [
    {
     "data": {
      "text/plain": [
       "Index(['bedrooms', 'bathrooms', 'sqft', 'tax_value', 'year_built', 'taxamount', 'fips'], dtype='object')"
      ]
     },
     "execution_count": 5,
     "metadata": {},
     "output_type": "execute_result"
    }
   ],
   "source": [
    "train.columns"
   ]
  },
  {
   "cell_type": "code",
   "execution_count": null,
   "id": "5e42d3d4-0c4f-4c89-aec4-19b1c0b71a1a",
   "metadata": {},
   "outputs": [],
   "source": []
  },
  {
   "cell_type": "markdown",
   "id": "b4af3dd5-b7c0-47e4-bb97-2fc401669249",
   "metadata": {},
   "source": [
    "## Remove outliers"
   ]
  },
  {
   "cell_type": "code",
   "execution_count": 6,
   "id": "8f73bc33-0abf-407a-8408-1ec224ffba3a",
   "metadata": {},
   "outputs": [],
   "source": [
    "#Add to function. (fff)\n",
    "upper_train = train.tax_value.quantile(q=0.95)\n",
    "lower_train = train.tax_value.quantile(q=0.05)\n",
    "\n",
    "upper_val = val.tax_value.quantile(q=0.95)\n",
    "lower_val = val.tax_value.quantile(q=0.05)\n",
    "\n",
    "upper_test = test.tax_value.quantile(q=0.95)\n",
    "lower_test = test.tax_value.quantile(q=0.05)\n",
    "\n",
    "#Code from Bill\n",
    "#taxes_adjusted = taxes[taxes.between(taxes.quantile(.05), taxes.quantile(.95))]"
   ]
  },
  {
   "cell_type": "code",
   "execution_count": 7,
   "id": "d7b3c373-dc54-463a-a39b-54c86b11490a",
   "metadata": {
    "tags": []
   },
   "outputs": [],
   "source": [
    "#(fff)\n",
    "b_train = train[(train.tax_value >= lower_train) & (train.tax_value <= upper_train)]"
   ]
  },
  {
   "cell_type": "code",
   "execution_count": 8,
   "id": "923154b4-d5fd-44e2-9200-aab45619825d",
   "metadata": {},
   "outputs": [],
   "source": [
    "#(fff)\n",
    "b_val = val[(val.tax_value >= lower_val) & (val.tax_value <= upper_val)]"
   ]
  },
  {
   "cell_type": "code",
   "execution_count": 9,
   "id": "f0958f3a-aaf7-4ab1-9a21-9b534a849ad8",
   "metadata": {},
   "outputs": [],
   "source": [
    "#(fff)\n",
    "b_test = test[(test.tax_value >= lower_test) & (test.tax_value <= upper_test)]"
   ]
  },
  {
   "cell_type": "markdown",
   "id": "d7cb549a-97af-42b0-8b79-2af879d9216c",
   "metadata": {},
   "source": [
    "## 1. Apply the scalers"
   ]
  },
  {
   "cell_type": "markdown",
   "id": "566cca4f-4afc-4812-93a8-a4b8ebf40e06",
   "metadata": {},
   "source": [
    "### Min-Max Scaling"
   ]
  },
  {
   "cell_type": "code",
   "execution_count": 10,
   "id": "ee4031e4-ce1f-45e3-b2d1-12cfbe3b2b35",
   "metadata": {},
   "outputs": [
    {
     "data": {
      "text/plain": [
       "MinMaxScaler()"
      ]
     },
     "execution_count": 10,
     "metadata": {},
     "output_type": "execute_result"
    }
   ],
   "source": [
    "#Create the scaler object\n",
    "mm_scaler = sklearn.preprocessing.MinMaxScaler()\n",
    "\n",
    "#Fit the scaler to the data\n",
    "mm_scaler.fit(b_train[['sqft']])"
   ]
  },
  {
   "cell_type": "code",
   "execution_count": 11,
   "id": "bbe13bcd-a342-4fb6-b5d5-d27657571e27",
   "metadata": {},
   "outputs": [],
   "source": [
    "#Adjust the sqft values\n",
    "train_mscaled = mm_scaler.transform(b_train[['sqft']])\n",
    "val_mscaled = mm_scaler.transform(b_val[['sqft']])\n",
    "test_mscaled = mm_scaler.transform(test[['sqft']])"
   ]
  },
  {
   "cell_type": "code",
   "execution_count": 12,
   "id": "06c4e7e8-99ca-4d52-9469-8da23b631387",
   "metadata": {},
   "outputs": [
    {
     "data": {
      "text/html": [
       "<div>\n",
       "<style scoped>\n",
       "    .dataframe tbody tr th:only-of-type {\n",
       "        vertical-align: middle;\n",
       "    }\n",
       "\n",
       "    .dataframe tbody tr th {\n",
       "        vertical-align: top;\n",
       "    }\n",
       "\n",
       "    .dataframe thead th {\n",
       "        text-align: right;\n",
       "    }\n",
       "</style>\n",
       "<table border=\"1\" class=\"dataframe\">\n",
       "  <thead>\n",
       "    <tr style=\"text-align: right;\">\n",
       "      <th></th>\n",
       "      <th>count</th>\n",
       "      <th>mean</th>\n",
       "      <th>std</th>\n",
       "      <th>min</th>\n",
       "      <th>25%</th>\n",
       "      <th>50%</th>\n",
       "      <th>75%</th>\n",
       "      <th>max</th>\n",
       "    </tr>\n",
       "  </thead>\n",
       "  <tbody>\n",
       "    <tr>\n",
       "      <th>bedrooms</th>\n",
       "      <td>1078679.0</td>\n",
       "      <td>3.288549</td>\n",
       "      <td>0.889885</td>\n",
       "      <td>0.00</td>\n",
       "      <td>3.000</td>\n",
       "      <td>3.00</td>\n",
       "      <td>4.000</td>\n",
       "      <td>16.00</td>\n",
       "    </tr>\n",
       "    <tr>\n",
       "      <th>bathrooms</th>\n",
       "      <td>1078679.0</td>\n",
       "      <td>2.181256</td>\n",
       "      <td>0.829878</td>\n",
       "      <td>0.00</td>\n",
       "      <td>2.000</td>\n",
       "      <td>2.00</td>\n",
       "      <td>3.000</td>\n",
       "      <td>20.00</td>\n",
       "    </tr>\n",
       "    <tr>\n",
       "      <th>sqft</th>\n",
       "      <td>1078679.0</td>\n",
       "      <td>1786.032974</td>\n",
       "      <td>1276.586853</td>\n",
       "      <td>3.00</td>\n",
       "      <td>1272.000</td>\n",
       "      <td>1622.00</td>\n",
       "      <td>2145.000</td>\n",
       "      <td>952576.00</td>\n",
       "    </tr>\n",
       "    <tr>\n",
       "      <th>tax_value</th>\n",
       "      <td>1078679.0</td>\n",
       "      <td>380936.358132</td>\n",
       "      <td>237955.546860</td>\n",
       "      <td>62514.00</td>\n",
       "      <td>203262.000</td>\n",
       "      <td>328493.00</td>\n",
       "      <td>505628.000</td>\n",
       "      <td>1205111.00</td>\n",
       "    </tr>\n",
       "    <tr>\n",
       "      <th>year_built</th>\n",
       "      <td>1078679.0</td>\n",
       "      <td>1961.092983</td>\n",
       "      <td>21.507103</td>\n",
       "      <td>1807.00</td>\n",
       "      <td>1950.000</td>\n",
       "      <td>1959.00</td>\n",
       "      <td>1975.000</td>\n",
       "      <td>2016.00</td>\n",
       "    </tr>\n",
       "    <tr>\n",
       "      <th>taxamount</th>\n",
       "      <td>1078679.0</td>\n",
       "      <td>4708.122584</td>\n",
       "      <td>2786.291124</td>\n",
       "      <td>16.48</td>\n",
       "      <td>2697.795</td>\n",
       "      <td>4112.62</td>\n",
       "      <td>6088.845</td>\n",
       "      <td>100379.34</td>\n",
       "    </tr>\n",
       "    <tr>\n",
       "      <th>fips</th>\n",
       "      <td>1078679.0</td>\n",
       "      <td>6048.591556</td>\n",
       "      <td>20.601259</td>\n",
       "      <td>6037.00</td>\n",
       "      <td>6037.000</td>\n",
       "      <td>6037.00</td>\n",
       "      <td>6059.000</td>\n",
       "      <td>6111.00</td>\n",
       "    </tr>\n",
       "  </tbody>\n",
       "</table>\n",
       "</div>"
      ],
      "text/plain": [
       "                count           mean            std       min         25%        50%         75%  \\\n",
       "bedrooms    1078679.0       3.288549       0.889885      0.00       3.000       3.00       4.000   \n",
       "bathrooms   1078679.0       2.181256       0.829878      0.00       2.000       2.00       3.000   \n",
       "sqft        1078679.0    1786.032974    1276.586853      3.00    1272.000    1622.00    2145.000   \n",
       "tax_value   1078679.0  380936.358132  237955.546860  62514.00  203262.000  328493.00  505628.000   \n",
       "year_built  1078679.0    1961.092983      21.507103   1807.00    1950.000    1959.00    1975.000   \n",
       "taxamount   1078679.0    4708.122584    2786.291124     16.48    2697.795    4112.62    6088.845   \n",
       "fips        1078679.0    6048.591556      20.601259   6037.00    6037.000    6037.00    6059.000   \n",
       "\n",
       "                   max  \n",
       "bedrooms         16.00  \n",
       "bathrooms        20.00  \n",
       "sqft         952576.00  \n",
       "tax_value   1205111.00  \n",
       "year_built     2016.00  \n",
       "taxamount    100379.34  \n",
       "fips           6111.00  "
      ]
     },
     "execution_count": 12,
     "metadata": {},
     "output_type": "execute_result"
    }
   ],
   "source": [
    "b_train.describe().T"
   ]
  },
  {
   "cell_type": "code",
   "execution_count": 13,
   "id": "961595f1-7b0c-460f-ae2a-d66f9ccb27be",
   "metadata": {},
   "outputs": [
    {
     "data": {
      "text/plain": [
       "146"
      ]
     },
     "execution_count": 13,
     "metadata": {},
     "output_type": "execute_result"
    }
   ],
   "source": [
    "len(b_train.year_built.value_counts())"
   ]
  },
  {
   "cell_type": "code",
   "execution_count": 14,
   "id": "c6ca2d39-7375-41af-8eef-c92234cca111",
   "metadata": {},
   "outputs": [
    {
     "data": {
      "text/plain": [
       "Text(0.5, 1.0, 'Scaled')"
      ]
     },
     "execution_count": 14,
     "metadata": {},
     "output_type": "execute_result"
    },
    {
     "data": {
      "image/png": "[encoded data removed]",
      "text/plain": [
       "<Figure size 1300x600 with 2 Axes>"
      ]
     },
     "metadata": {},
     "output_type": "display_data"
    }
   ],
   "source": [
    "#Dealing with large values in matplotlib is painful\n",
    "plt.figure(figsize=(13,6))\n",
    "plt.subplot(121)\n",
    "plt.hist(x=b_train['sqft'], bins=10000, ec='black')\n",
    "plt.xlim(left=0,right=10000)\n",
    "plt.title('Original')\n",
    "plt.subplot(122)\n",
    "plt.hist(x=train_mscaled, bins=10000, ec='black')\n",
    "plt.xlim(left=0,right=0.01)\n",
    "plt.title('Scaled')"
   ]
  },
  {
   "cell_type": "markdown",
   "id": "232d24cb-f94a-4e0a-88f5-00ef1dbc3f3e",
   "metadata": {},
   "source": [
    "Takeaway: I don't understand the ranges between the scaled and regular DataFrame. They look similar."
   ]
  },
  {
   "cell_type": "markdown",
   "id": "e4117830-ad51-49a1-855a-6a111a23a9df",
   "metadata": {},
   "source": [
    "### Standard Scaler"
   ]
  },
  {
   "cell_type": "code",
   "execution_count": 15,
   "id": "12ca219c-360e-4898-9c53-e79b5aafdac9",
   "metadata": {},
   "outputs": [
    {
     "data": {
      "text/plain": [
       "StandardScaler()"
      ]
     },
     "execution_count": 15,
     "metadata": {},
     "output_type": "execute_result"
    }
   ],
   "source": [
    "#Create the scaler object\n",
    "ss_scaler = sklearn.preprocessing.StandardScaler()\n",
    "\n",
    "#Fit the scaler to the data\n",
    "ss_scaler.fit(b_train[['sqft']])"
   ]
  },
  {
   "cell_type": "code",
   "execution_count": 16,
   "id": "8f0cbee7-0328-4fb8-85cb-3b3e28a59081",
   "metadata": {},
   "outputs": [],
   "source": [
    "#Code from the other group\n",
    "values = ['sqft'] #column names"
   ]
  },
  {
   "cell_type": "code",
   "execution_count": 17,
   "id": "267314f8-f7b2-4a2d-b359-dd71455fedd3",
   "metadata": {},
   "outputs": [],
   "source": [
    "#This is what the other group had\n",
    "#train_sscaled[values] = ss_scaler.transform(b_train[values])"
   ]
  },
  {
   "cell_type": "code",
   "execution_count": 18,
   "id": "a0d825e8-2d2d-4167-900f-d4295c0d2496",
   "metadata": {},
   "outputs": [],
   "source": [
    "#Adjust the sqft values\n",
    "train_sscaled = ss_scaler.transform(b_train[['sqft']])"
   ]
  },
  {
   "cell_type": "code",
   "execution_count": 19,
   "id": "7b905713-0607-46ca-b9d7-c64ac3dc87d2",
   "metadata": {},
   "outputs": [],
   "source": [
    "val_sscaled = ss_scaler.transform(b_val[['sqft']])"
   ]
  },
  {
   "cell_type": "code",
   "execution_count": 20,
   "id": "3391356a-70bb-492f-b64a-bbe2415a080c",
   "metadata": {},
   "outputs": [],
   "source": [
    "test_sscaled = ss_scaler.transform(test[['sqft']])"
   ]
  },
  {
   "cell_type": "code",
   "execution_count": 21,
   "id": "c56c3884-c17c-4535-a142-2657d219f4db",
   "metadata": {},
   "outputs": [
    {
     "data": {
      "text/html": [
       "<div>\n",
       "<style scoped>\n",
       "    .dataframe tbody tr th:only-of-type {\n",
       "        vertical-align: middle;\n",
       "    }\n",
       "\n",
       "    .dataframe tbody tr th {\n",
       "        vertical-align: top;\n",
       "    }\n",
       "\n",
       "    .dataframe thead th {\n",
       "        text-align: right;\n",
       "    }\n",
       "</style>\n",
       "<table border=\"1\" class=\"dataframe\">\n",
       "  <thead>\n",
       "    <tr style=\"text-align: right;\">\n",
       "      <th></th>\n",
       "      <th>count</th>\n",
       "      <th>mean</th>\n",
       "      <th>std</th>\n",
       "      <th>min</th>\n",
       "      <th>25%</th>\n",
       "      <th>50%</th>\n",
       "      <th>75%</th>\n",
       "      <th>max</th>\n",
       "    </tr>\n",
       "  </thead>\n",
       "  <tbody>\n",
       "    <tr>\n",
       "      <th>bedrooms</th>\n",
       "      <td>1078679.0</td>\n",
       "      <td>3.288549</td>\n",
       "      <td>0.889885</td>\n",
       "      <td>0.00</td>\n",
       "      <td>3.000</td>\n",
       "      <td>3.00</td>\n",
       "      <td>4.000</td>\n",
       "      <td>16.00</td>\n",
       "    </tr>\n",
       "    <tr>\n",
       "      <th>bathrooms</th>\n",
       "      <td>1078679.0</td>\n",
       "      <td>2.181256</td>\n",
       "      <td>0.829878</td>\n",
       "      <td>0.00</td>\n",
       "      <td>2.000</td>\n",
       "      <td>2.00</td>\n",
       "      <td>3.000</td>\n",
       "      <td>20.00</td>\n",
       "    </tr>\n",
       "    <tr>\n",
       "      <th>sqft</th>\n",
       "      <td>1078679.0</td>\n",
       "      <td>1786.032974</td>\n",
       "      <td>1276.586853</td>\n",
       "      <td>3.00</td>\n",
       "      <td>1272.000</td>\n",
       "      <td>1622.00</td>\n",
       "      <td>2145.000</td>\n",
       "      <td>952576.00</td>\n",
       "    </tr>\n",
       "    <tr>\n",
       "      <th>tax_value</th>\n",
       "      <td>1078679.0</td>\n",
       "      <td>380936.358132</td>\n",
       "      <td>237955.546860</td>\n",
       "      <td>62514.00</td>\n",
       "      <td>203262.000</td>\n",
       "      <td>328493.00</td>\n",
       "      <td>505628.000</td>\n",
       "      <td>1205111.00</td>\n",
       "    </tr>\n",
       "    <tr>\n",
       "      <th>year_built</th>\n",
       "      <td>1078679.0</td>\n",
       "      <td>1961.092983</td>\n",
       "      <td>21.507103</td>\n",
       "      <td>1807.00</td>\n",
       "      <td>1950.000</td>\n",
       "      <td>1959.00</td>\n",
       "      <td>1975.000</td>\n",
       "      <td>2016.00</td>\n",
       "    </tr>\n",
       "    <tr>\n",
       "      <th>taxamount</th>\n",
       "      <td>1078679.0</td>\n",
       "      <td>4708.122584</td>\n",
       "      <td>2786.291124</td>\n",
       "      <td>16.48</td>\n",
       "      <td>2697.795</td>\n",
       "      <td>4112.62</td>\n",
       "      <td>6088.845</td>\n",
       "      <td>100379.34</td>\n",
       "    </tr>\n",
       "    <tr>\n",
       "      <th>fips</th>\n",
       "      <td>1078679.0</td>\n",
       "      <td>6048.591556</td>\n",
       "      <td>20.601259</td>\n",
       "      <td>6037.00</td>\n",
       "      <td>6037.000</td>\n",
       "      <td>6037.00</td>\n",
       "      <td>6059.000</td>\n",
       "      <td>6111.00</td>\n",
       "    </tr>\n",
       "  </tbody>\n",
       "</table>\n",
       "</div>"
      ],
      "text/plain": [
       "                count           mean            std       min         25%        50%         75%  \\\n",
       "bedrooms    1078679.0       3.288549       0.889885      0.00       3.000       3.00       4.000   \n",
       "bathrooms   1078679.0       2.181256       0.829878      0.00       2.000       2.00       3.000   \n",
       "sqft        1078679.0    1786.032974    1276.586853      3.00    1272.000    1622.00    2145.000   \n",
       "tax_value   1078679.0  380936.358132  237955.546860  62514.00  203262.000  328493.00  505628.000   \n",
       "year_built  1078679.0    1961.092983      21.507103   1807.00    1950.000    1959.00    1975.000   \n",
       "taxamount   1078679.0    4708.122584    2786.291124     16.48    2697.795    4112.62    6088.845   \n",
       "fips        1078679.0    6048.591556      20.601259   6037.00    6037.000    6037.00    6059.000   \n",
       "\n",
       "                   max  \n",
       "bedrooms         16.00  \n",
       "bathrooms        20.00  \n",
       "sqft         952576.00  \n",
       "tax_value   1205111.00  \n",
       "year_built     2016.00  \n",
       "taxamount    100379.34  \n",
       "fips           6111.00  "
      ]
     },
     "execution_count": 21,
     "metadata": {},
     "output_type": "execute_result"
    }
   ],
   "source": [
    "b_train.describe().T"
   ]
  },
  {
   "cell_type": "code",
   "execution_count": 22,
   "id": "043c7cdc-cdf6-4487-a7b7-b02a133549ed",
   "metadata": {},
   "outputs": [
    {
     "data": {
      "text/plain": [
       "Text(0.5, 1.0, 'Scaled')"
      ]
     },
     "execution_count": 22,
     "metadata": {},
     "output_type": "execute_result"
    },
    {
     "data": {
      "image/png": "[encoded data removed]",
      "text/plain": [
       "<Figure size 1300x600 with 2 Axes>"
      ]
     },
     "metadata": {},
     "output_type": "display_data"
    }
   ],
   "source": [
    "#Dealing with large values in matplotlib is painful\n",
    "plt.figure(figsize=(13,6))\n",
    "plt.subplot(121)\n",
    "plt.hist(x=b_train['sqft'], bins=10000, ec='black')\n",
    "plt.xlim(left=0,right=10000)\n",
    "plt.title('Original')\n",
    "plt.subplot(122)\n",
    "plt.hist(x=train_sscaled, bins=10000, ec='black')\n",
    "plt.xlim(left=-2,right=5)\n",
    "plt.title('Scaled')"
   ]
  },
  {
   "cell_type": "markdown",
   "id": "ac4c1dc2-db50-4337-898d-221f5f99b737",
   "metadata": {},
   "source": [
    "### RobustScaler"
   ]
  },
  {
   "cell_type": "code",
   "execution_count": 23,
   "id": "f143f41d-6d40-4e92-89fa-f864bc69d453",
   "metadata": {},
   "outputs": [
    {
     "data": {
      "text/plain": [
       "RobustScaler()"
      ]
     },
     "execution_count": 23,
     "metadata": {},
     "output_type": "execute_result"
    }
   ],
   "source": [
    "#Create the scaler object\n",
    "rs_scaler = sklearn.preprocessing.RobustScaler()\n",
    "\n",
    "#Fit the scaler to the data\n",
    "rs_scaler.fit(b_train[['sqft']])"
   ]
  },
  {
   "cell_type": "code",
   "execution_count": 24,
   "id": "bad63933-f9f8-4d45-81f7-bc2f3ffd8f71",
   "metadata": {},
   "outputs": [],
   "source": [
    "train_rscaled = rs_scaler.transform(b_train[['sqft']])"
   ]
  },
  {
   "cell_type": "code",
   "execution_count": 25,
   "id": "3c0d5b04-53ce-4348-a15b-cf8a40534aa0",
   "metadata": {},
   "outputs": [],
   "source": [
    "val_rscaled = rs_scaler.transform(b_train[['sqft']])"
   ]
  },
  {
   "cell_type": "code",
   "execution_count": 26,
   "id": "b7b87644-20e5-43d4-b420-c8b0a6e342c7",
   "metadata": {},
   "outputs": [],
   "source": [
    "test_rscaled = rs_scaler.transform(b_train[['sqft']])"
   ]
  },
  {
   "cell_type": "code",
   "execution_count": 27,
   "id": "13d0ce93-0b16-45ba-8160-3410458ba069",
   "metadata": {},
   "outputs": [
    {
     "data": {
      "text/plain": [
       "Text(0.5, 1.0, 'Scaled')"
      ]
     },
     "execution_count": 27,
     "metadata": {},
     "output_type": "execute_result"
    },
    {
     "data": {
      "image/png": "[encoded data removed]",
      "text/plain": [
       "<Figure size 1300x600 with 2 Axes>"
      ]
     },
     "metadata": {},
     "output_type": "display_data"
    }
   ],
   "source": [
    "#Plotting to compare robust scaler\n",
    "plt.figure(figsize=(13,6))\n",
    "plt.subplot(121)\n",
    "plt.hist(x=b_train['sqft'], bins=10000, ec='black')\n",
    "plt.xlim(left=0,right=10000)\n",
    "plt.title('Original')\n",
    "plt.subplot(122)\n",
    "plt.hist(x=train_rscaled, bins=10000, ec='black')\n",
    "plt.xlim(left=-2,right=10)\n",
    "plt.title('Scaled')"
   ]
  },
  {
   "cell_type": "code",
   "execution_count": 28,
   "id": "d3a87003-7a9c-4594-9c82-6dfb2977c227",
   "metadata": {},
   "outputs": [
    {
     "data": {
      "text/html": [
       "<div>\n",
       "<style scoped>\n",
       "    .dataframe tbody tr th:only-of-type {\n",
       "        vertical-align: middle;\n",
       "    }\n",
       "\n",
       "    .dataframe tbody tr th {\n",
       "        vertical-align: top;\n",
       "    }\n",
       "\n",
       "    .dataframe thead th {\n",
       "        text-align: right;\n",
       "    }\n",
       "</style>\n",
       "<table border=\"1\" class=\"dataframe\">\n",
       "  <thead>\n",
       "    <tr style=\"text-align: right;\">\n",
       "      <th></th>\n",
       "      <th>count</th>\n",
       "      <th>mean</th>\n",
       "      <th>std</th>\n",
       "      <th>min</th>\n",
       "      <th>25%</th>\n",
       "      <th>50%</th>\n",
       "      <th>75%</th>\n",
       "      <th>max</th>\n",
       "    </tr>\n",
       "  </thead>\n",
       "  <tbody>\n",
       "    <tr>\n",
       "      <th>bedrooms</th>\n",
       "      <td>1078679.0</td>\n",
       "      <td>3.288549</td>\n",
       "      <td>0.889885</td>\n",
       "      <td>0.00</td>\n",
       "      <td>3.000</td>\n",
       "      <td>3.00</td>\n",
       "      <td>4.000</td>\n",
       "      <td>16.00</td>\n",
       "    </tr>\n",
       "    <tr>\n",
       "      <th>bathrooms</th>\n",
       "      <td>1078679.0</td>\n",
       "      <td>2.181256</td>\n",
       "      <td>0.829878</td>\n",
       "      <td>0.00</td>\n",
       "      <td>2.000</td>\n",
       "      <td>2.00</td>\n",
       "      <td>3.000</td>\n",
       "      <td>20.00</td>\n",
       "    </tr>\n",
       "    <tr>\n",
       "      <th>sqft</th>\n",
       "      <td>1078679.0</td>\n",
       "      <td>1786.032974</td>\n",
       "      <td>1276.586853</td>\n",
       "      <td>3.00</td>\n",
       "      <td>1272.000</td>\n",
       "      <td>1622.00</td>\n",
       "      <td>2145.000</td>\n",
       "      <td>952576.00</td>\n",
       "    </tr>\n",
       "    <tr>\n",
       "      <th>tax_value</th>\n",
       "      <td>1078679.0</td>\n",
       "      <td>380936.358132</td>\n",
       "      <td>237955.546860</td>\n",
       "      <td>62514.00</td>\n",
       "      <td>203262.000</td>\n",
       "      <td>328493.00</td>\n",
       "      <td>505628.000</td>\n",
       "      <td>1205111.00</td>\n",
       "    </tr>\n",
       "    <tr>\n",
       "      <th>year_built</th>\n",
       "      <td>1078679.0</td>\n",
       "      <td>1961.092983</td>\n",
       "      <td>21.507103</td>\n",
       "      <td>1807.00</td>\n",
       "      <td>1950.000</td>\n",
       "      <td>1959.00</td>\n",
       "      <td>1975.000</td>\n",
       "      <td>2016.00</td>\n",
       "    </tr>\n",
       "    <tr>\n",
       "      <th>taxamount</th>\n",
       "      <td>1078679.0</td>\n",
       "      <td>4708.122584</td>\n",
       "      <td>2786.291124</td>\n",
       "      <td>16.48</td>\n",
       "      <td>2697.795</td>\n",
       "      <td>4112.62</td>\n",
       "      <td>6088.845</td>\n",
       "      <td>100379.34</td>\n",
       "    </tr>\n",
       "    <tr>\n",
       "      <th>fips</th>\n",
       "      <td>1078679.0</td>\n",
       "      <td>6048.591556</td>\n",
       "      <td>20.601259</td>\n",
       "      <td>6037.00</td>\n",
       "      <td>6037.000</td>\n",
       "      <td>6037.00</td>\n",
       "      <td>6059.000</td>\n",
       "      <td>6111.00</td>\n",
       "    </tr>\n",
       "  </tbody>\n",
       "</table>\n",
       "</div>"
      ],
      "text/plain": [
       "                count           mean            std       min         25%        50%         75%  \\\n",
       "bedrooms    1078679.0       3.288549       0.889885      0.00       3.000       3.00       4.000   \n",
       "bathrooms   1078679.0       2.181256       0.829878      0.00       2.000       2.00       3.000   \n",
       "sqft        1078679.0    1786.032974    1276.586853      3.00    1272.000    1622.00    2145.000   \n",
       "tax_value   1078679.0  380936.358132  237955.546860  62514.00  203262.000  328493.00  505628.000   \n",
       "year_built  1078679.0    1961.092983      21.507103   1807.00    1950.000    1959.00    1975.000   \n",
       "taxamount   1078679.0    4708.122584    2786.291124     16.48    2697.795    4112.62    6088.845   \n",
       "fips        1078679.0    6048.591556      20.601259   6037.00    6037.000    6037.00    6059.000   \n",
       "\n",
       "                   max  \n",
       "bedrooms         16.00  \n",
       "bathrooms        20.00  \n",
       "sqft         952576.00  \n",
       "tax_value   1205111.00  \n",
       "year_built     2016.00  \n",
       "taxamount    100379.34  \n",
       "fips           6111.00  "
      ]
     },
     "execution_count": 28,
     "metadata": {},
     "output_type": "execute_result"
    }
   ],
   "source": [
    "b_train.describe().T"
   ]
  },
  {
   "cell_type": "markdown",
   "id": "99c02078-7f42-4e13-bb3f-eb06b17e299e",
   "metadata": {},
   "source": [
    "## 2. Apply the `.inverse_transform` method"
   ]
  },
  {
   "cell_type": "code",
   "execution_count": 29,
   "id": "e3777a44-7dff-426b-b393-8d6af0406dc8",
   "metadata": {},
   "outputs": [],
   "source": [
    "reverse = ss_scaler.inverse_transform(train_rscaled)"
   ]
  },
  {
   "cell_type": "code",
   "execution_count": 30,
   "id": "077bc86a-1a00-48a7-94a7-fe893fce964a",
   "metadata": {},
   "outputs": [
    {
     "data": {
      "text/plain": [
       "Text(0.5, 1.0, 'UnScaled')"
      ]
     },
     "execution_count": 30,
     "metadata": {},
     "output_type": "execute_result"
    },
    {
     "data": {
      "image/png": "[encoded data removed]",
      "text/plain": [
       "<Figure size 1000x600 with 2 Axes>"
      ]
     },
     "metadata": {},
     "output_type": "display_data"
    }
   ],
   "source": [
    "#Plotting to compare inverse transoform method. It doesn't seem correct\n",
    "plt.figure(figsize=(10,6))\n",
    "plt.subplot(121)\n",
    "plt.hist(x=b_train['sqft'], bins=10000, ec='black')\n",
    "plt.xlim(left=0,right=10000)\n",
    "plt.title('Original')\n",
    "plt.subplot(122)\n",
    "plt.hist(x=reverse, bins=10000, ec='black')\n",
    "plt.xlim(left=-0,right=10000)\n",
    "plt.title('UnScaled')"
   ]
  },
  {
   "cell_type": "markdown",
   "id": "da73e29f-8935-4ca5-aa2a-aef315b84a27",
   "metadata": {},
   "source": [
    "## 3. QuantileTransformer"
   ]
  },
  {
   "cell_type": "code",
   "execution_count": 31,
   "id": "bf71f600-a8d4-47a7-861e-0133f46a7123",
   "metadata": {},
   "outputs": [],
   "source": [
    "qt_scaler = sklearn.preprocessing.QuantileTransformer(output_distribution='normal')"
   ]
  },
  {
   "cell_type": "code",
   "execution_count": 32,
   "id": "b475f679-78eb-49d2-9cfa-214bcde37a52",
   "metadata": {},
   "outputs": [
    {
     "data": {
      "text/plain": [
       "QuantileTransformer(output_distribution='normal')"
      ]
     },
     "execution_count": 32,
     "metadata": {},
     "output_type": "execute_result"
    }
   ],
   "source": [
    "qt_scaler.fit(b_train[['sqft']])"
   ]
  },
  {
   "cell_type": "code",
   "execution_count": 33,
   "id": "734b0c3b-43c9-4441-b37f-bfd685079e0f",
   "metadata": {},
   "outputs": [],
   "source": [
    "train_qtscaled = qt_scaler.transform(b_train[['sqft']])"
   ]
  },
  {
   "cell_type": "code",
   "execution_count": 34,
   "id": "e78d8663-82f6-46d9-8777-ddfdc3805cdb",
   "metadata": {},
   "outputs": [
    {
     "data": {
      "text/plain": [
       "Text(0.5, 1.0, 'Scaled')"
      ]
     },
     "execution_count": 34,
     "metadata": {},
     "output_type": "execute_result"
    },
    {
     "data": {
      "image/png": "[encoded data removed]",
      "text/plain": [
       "<Figure size 1300x600 with 2 Axes>"
      ]
     },
     "metadata": {},
     "output_type": "display_data"
    }
   ],
   "source": [
    "#Dealing with large values in matplotlib is painful\n",
    "plt.figure(figsize=(13,6))\n",
    "plt.subplot(121)\n",
    "plt.hist(x=b_train['sqft'], bins=10000, ec='black')\n",
    "plt.xlim(left=0,right=10000)\n",
    "plt.title('Original')\n",
    "plt.subplot(122)\n",
    "plt.hist(x=train_qtscaled, bins=10000, ec='black')\n",
    "plt.xlim(left=-5,right=5)\n",
    "plt.title('Scaled')"
   ]
  },
  {
   "cell_type": "markdown",
   "id": "7e020432-b6ba-45d8-9f67-817b128533a5",
   "metadata": {},
   "source": [
    "Takeaway: I don't like that spike at the top of the range."
   ]
  },
  {
   "cell_type": "markdown",
   "id": "bf062d5f-4f25-4727-91a3-4688270a4be2",
   "metadata": {},
   "source": [
    "## 4. QuantileTransformer omit `output_distribution` argument"
   ]
  },
  {
   "cell_type": "code",
   "execution_count": 35,
   "id": "9af48923-8455-4b0f-87bb-e70f799ff63c",
   "metadata": {},
   "outputs": [],
   "source": [
    "qt2_scaler = sklearn.preprocessing.QuantileTransformer()"
   ]
  },
  {
   "cell_type": "code",
   "execution_count": 36,
   "id": "6cde0b67-e509-4546-8c3b-caa524dbeccf",
   "metadata": {},
   "outputs": [
    {
     "data": {
      "text/plain": [
       "QuantileTransformer()"
      ]
     },
     "execution_count": 36,
     "metadata": {},
     "output_type": "execute_result"
    }
   ],
   "source": [
    "qt2_scaler.fit(b_train[['sqft']])"
   ]
  },
  {
   "cell_type": "code",
   "execution_count": 37,
   "id": "5a901fb2-a87a-4a07-97af-e87f79e0ab4b",
   "metadata": {},
   "outputs": [],
   "source": [
    "train_qt2scaled = qt2_scaler.transform(b_train[['sqft']])"
   ]
  },
  {
   "cell_type": "code",
   "execution_count": 38,
   "id": "34df22ec-cc47-40a6-b191-43f8ee43273e",
   "metadata": {},
   "outputs": [
    {
     "data": {
      "text/plain": [
       "Text(0.5, 1.0, 'Scaled')"
      ]
     },
     "execution_count": 38,
     "metadata": {},
     "output_type": "execute_result"
    },
    {
     "data": {
      "image/png": "[encoded data removed]",
      "text/plain": [
       "<Figure size 1300x600 with 2 Axes>"
      ]
     },
     "metadata": {},
     "output_type": "display_data"
    }
   ],
   "source": [
    "#Dealing with large values in matplotlib is painful\n",
    "plt.figure(figsize=(13,6))\n",
    "plt.subplot(121)\n",
    "plt.hist(x=b_train['sqft'], bins=10000, ec='black')\n",
    "plt.xlim(left=0,right=10000)\n",
    "plt.title('Original')\n",
    "plt.subplot(122)\n",
    "plt.hist(x=train_qt2scaled, bins=10000, ec='black')\n",
    "plt.xlim(left=-.1,right=1.1)\n",
    "plt.title('Scaled')"
   ]
  },
  {
   "cell_type": "markdown",
   "id": "0d532d9a-8d58-4eef-ba3c-5b52eee1c3cb",
   "metadata": {},
   "source": [
    "I don't like that spike at the top of the range even more."
   ]
  },
  {
   "cell_type": "markdown",
   "id": "31b2ffbb-8397-4963-8cec-9cc1e6f56b27",
   "metadata": {},
   "source": [
    "## 5.Choose a scaling method for your dataset and write a function"
   ]
  },
  {
   "cell_type": "markdown",
   "id": "47295795-149d-4879-a2ec-f43909470218",
   "metadata": {},
   "source": [
    "RobustScaler due to zillow having outliers."
   ]
  },
  {
   "cell_type": "markdown",
   "id": "735619ea-8540-4d82-b6b6-c25597e0d5e3",
   "metadata": {},
   "source": [
    "Build Note:\n",
    "- Ensure the outlier data gets removed.\n",
    "- What are you passing in? 'cont_columns', 'train, val, test'"
   ]
  },
  {
   "cell_type": "code",
   "execution_count": 39,
   "id": "1f25f46f-376c-43c8-8473-ecafb551e74b",
   "metadata": {
    "tags": []
   },
   "outputs": [],
   "source": [
    "#Variables to pass into the function:   #(fff)\n",
    "cont_columns = ['sqft', 'taxamount']\n",
    "#train = train\n",
    "#val = val\n",
    "#test = test"
   ]
  },
  {
   "cell_type": "code",
   "execution_count": 40,
   "id": "6199cc9a-1ef0-4286-9824-792e0c971db6",
   "metadata": {},
   "outputs": [
    {
     "data": {
      "text/html": [
       "<div>\n",
       "<style scoped>\n",
       "    .dataframe tbody tr th:only-of-type {\n",
       "        vertical-align: middle;\n",
       "    }\n",
       "\n",
       "    .dataframe tbody tr th {\n",
       "        vertical-align: top;\n",
       "    }\n",
       "\n",
       "    .dataframe thead th {\n",
       "        text-align: right;\n",
       "    }\n",
       "</style>\n",
       "<table border=\"1\" class=\"dataframe\">\n",
       "  <thead>\n",
       "    <tr style=\"text-align: right;\">\n",
       "      <th></th>\n",
       "      <th>sqft</th>\n",
       "      <th>taxamount</th>\n",
       "    </tr>\n",
       "  </thead>\n",
       "  <tbody>\n",
       "    <tr>\n",
       "      <th>2045960</th>\n",
       "      <td>1191.0</td>\n",
       "      <td>4790.55</td>\n",
       "    </tr>\n",
       "    <tr>\n",
       "      <th>1345346</th>\n",
       "      <td>1198.0</td>\n",
       "      <td>3543.05</td>\n",
       "    </tr>\n",
       "    <tr>\n",
       "      <th>761422</th>\n",
       "      <td>2959.0</td>\n",
       "      <td>2850.76</td>\n",
       "    </tr>\n",
       "    <tr>\n",
       "      <th>1667958</th>\n",
       "      <td>2644.0</td>\n",
       "      <td>6347.26</td>\n",
       "    </tr>\n",
       "    <tr>\n",
       "      <th>564887</th>\n",
       "      <td>3243.0</td>\n",
       "      <td>2222.84</td>\n",
       "    </tr>\n",
       "  </tbody>\n",
       "</table>\n",
       "</div>"
      ],
      "text/plain": [
       "           sqft  taxamount\n",
       "2045960  1191.0    4790.55\n",
       "1345346  1198.0    3543.05\n",
       "761422   2959.0    2850.76\n",
       "1667958  2644.0    6347.26\n",
       "564887   3243.0    2222.84"
      ]
     },
     "execution_count": 40,
     "metadata": {},
     "output_type": "execute_result"
    }
   ],
   "source": [
    "b_train[cont_columns].head()"
   ]
  },
  {
   "cell_type": "code",
   "execution_count": 41,
   "id": "a65f8f9f-04c4-4c4e-a77e-230481cc2f96",
   "metadata": {},
   "outputs": [
    {
     "data": {
      "text/html": [
       "<div>\n",
       "<style scoped>\n",
       "    .dataframe tbody tr th:only-of-type {\n",
       "        vertical-align: middle;\n",
       "    }\n",
       "\n",
       "    .dataframe tbody tr th {\n",
       "        vertical-align: top;\n",
       "    }\n",
       "\n",
       "    .dataframe thead th {\n",
       "        text-align: right;\n",
       "    }\n",
       "</style>\n",
       "<table border=\"1\" class=\"dataframe\">\n",
       "  <thead>\n",
       "    <tr style=\"text-align: right;\">\n",
       "      <th></th>\n",
       "      <th>bedrooms</th>\n",
       "      <th>bathrooms</th>\n",
       "      <th>sqft</th>\n",
       "      <th>tax_value</th>\n",
       "      <th>year_built</th>\n",
       "      <th>taxamount</th>\n",
       "      <th>fips</th>\n",
       "    </tr>\n",
       "  </thead>\n",
       "  <tbody>\n",
       "    <tr>\n",
       "      <th>2045960</th>\n",
       "      <td>3.0</td>\n",
       "      <td>2.0</td>\n",
       "      <td>1191.0</td>\n",
       "      <td>388527.0</td>\n",
       "      <td>1956.0</td>\n",
       "      <td>4790.55</td>\n",
       "      <td>6037.0</td>\n",
       "    </tr>\n",
       "    <tr>\n",
       "      <th>1345346</th>\n",
       "      <td>3.0</td>\n",
       "      <td>2.0</td>\n",
       "      <td>1198.0</td>\n",
       "      <td>229705.0</td>\n",
       "      <td>1956.0</td>\n",
       "      <td>3543.05</td>\n",
       "      <td>6037.0</td>\n",
       "    </tr>\n",
       "    <tr>\n",
       "      <th>761422</th>\n",
       "      <td>6.0</td>\n",
       "      <td>3.0</td>\n",
       "      <td>2959.0</td>\n",
       "      <td>251184.0</td>\n",
       "      <td>1951.0</td>\n",
       "      <td>2850.76</td>\n",
       "      <td>6037.0</td>\n",
       "    </tr>\n",
       "    <tr>\n",
       "      <th>1667958</th>\n",
       "      <td>4.0</td>\n",
       "      <td>3.0</td>\n",
       "      <td>2644.0</td>\n",
       "      <td>525255.0</td>\n",
       "      <td>1990.0</td>\n",
       "      <td>6347.26</td>\n",
       "      <td>6059.0</td>\n",
       "    </tr>\n",
       "    <tr>\n",
       "      <th>564887</th>\n",
       "      <td>6.0</td>\n",
       "      <td>4.0</td>\n",
       "      <td>3243.0</td>\n",
       "      <td>174603.0</td>\n",
       "      <td>1972.0</td>\n",
       "      <td>2222.84</td>\n",
       "      <td>6059.0</td>\n",
       "    </tr>\n",
       "  </tbody>\n",
       "</table>\n",
       "</div>"
      ],
      "text/plain": [
       "         bedrooms  bathrooms    sqft  tax_value  year_built  taxamount    fips\n",
       "2045960       3.0        2.0  1191.0   388527.0      1956.0    4790.55  6037.0\n",
       "1345346       3.0        2.0  1198.0   229705.0      1956.0    3543.05  6037.0\n",
       "761422        6.0        3.0  2959.0   251184.0      1951.0    2850.76  6037.0\n",
       "1667958       4.0        3.0  2644.0   525255.0      1990.0    6347.26  6059.0\n",
       "564887        6.0        4.0  3243.0   174603.0      1972.0    2222.84  6059.0"
      ]
     },
     "execution_count": 41,
     "metadata": {},
     "output_type": "execute_result"
    }
   ],
   "source": [
    "b_train.head()"
   ]
  },
  {
   "cell_type": "markdown",
   "id": "b51ac6ec-6a35-43cc-add4-537a2028c5a9",
   "metadata": {},
   "source": [
    "I had to get the code from the regression repo to get it to work but I don't understand why you would scale bed/bathrooms:"
   ]
  },
  {
   "cell_type": "code",
   "execution_count": 42,
   "id": "066d59e4-7aad-42ac-b8ff-ff4e43323520",
   "metadata": {},
   "outputs": [],
   "source": [
    "# make copies of our original data so we dont gronk up anything\n",
    "train_rscaled1 = train.copy()\n",
    "val_rscaled1 = val.copy()\n",
    "test_rscaled1 = test.copy()"
   ]
  },
  {
   "cell_type": "code",
   "execution_count": 43,
   "id": "e1184072-4ff4-4bf8-9d21-40dd041d84c0",
   "metadata": {},
   "outputs": [],
   "source": [
    "rs_scaler = rs_scaler.fit(b_train[cont_columns])"
   ]
  },
  {
   "cell_type": "code",
   "execution_count": 44,
   "id": "0e80cd53-04a5-4454-a93c-215049e3755c",
   "metadata": {},
   "outputs": [],
   "source": [
    "train_rscaled1[cont_columns] = pd.DataFrame(rs_scaler.transform(b_train[cont_columns]),\n",
    "                                              columns=b_train[cont_columns].columns.values).set_index([b_train.index.values])\n",
    "\n",
    "val_rscaled1[cont_columns] = pd.DataFrame(rs_scaler.transform(b_val[cont_columns]),\n",
    "                                              columns=b_val[cont_columns].columns.values).set_index([b_val.index.values])\n",
    "\n",
    "test_rscaled1[cont_columns] = pd.DataFrame(rs_scaler.transform(b_test[cont_columns]),\n",
    "                                             columns=b_test[cont_columns].columns.values).set_index([b_test.index.values])"
   ]
  },
  {
   "cell_type": "code",
   "execution_count": 45,
   "id": "233b44f3-6a0c-4a7c-9fea-8876e2e125e8",
   "metadata": {},
   "outputs": [
    {
     "data": {
      "text/plain": [
       "Text(0.5, 1.0, 'Scaled')"
      ]
     },
     "execution_count": 45,
     "metadata": {},
     "output_type": "execute_result"
    },
    {
     "data": {
      "image/png": "[encoded data removed]",
      "text/plain": [
       "<Figure size 1300x600 with 2 Axes>"
      ]
     },
     "metadata": {},
     "output_type": "display_data"
    }
   ],
   "source": [
    "#Dealing with large values in matplotlib is painful\n",
    "plt.figure(figsize=(13,6))\n",
    "plt.subplot(121)\n",
    "plt.hist(x=b_train['sqft'], bins=10000, ec='black')\n",
    "plt.xlim(left=0,right=10000)\n",
    "plt.title('Original')\n",
    "plt.subplot(122)\n",
    "plt.hist(x=train_rscaled1['sqft'], bins=10000, ec='black')\n",
    "plt.xlim(left=-2,right=10)\n",
    "plt.title('Scaled')"
   ]
  },
  {
   "cell_type": "code",
   "execution_count": 46,
   "id": "7dcd64af-adbc-4a60-a59c-a7d09cf8f2bd",
   "metadata": {},
   "outputs": [],
   "source": [
    "def scale_zillow(train, val, test, cont_columns = ['sqft', 'taxamount']):\n",
    "    \"\"\"\n",
    "    This takes in the train, validate and test DataFrames, scales the cont_columns using the\n",
    "    Robust Scaler and returns the DataFrames.\n",
    "    \"\"\"\n",
    "    \n",
    "    #Make a copy\n",
    "    train_rscaled1 = train.copy()\n",
    "    val_rscaled1 = val.copy()\n",
    "    test_rscaled1 = test.copy()\n",
    "    \n",
    "    #Fit the scaler\n",
    "    rs_scaler = rs_scaler.fit(b_train[cont_columns])\n",
    "    \n",
    "    #Build the new DataFrames\n",
    "    train_rscaled1[cont_columns] = pd.DataFrame(rs_scaler.transform(b_train[cont_columns]),\n",
    "                                                  columns=b_train[cont_columns].columns.values).set_index([b_train.index.values])\n",
    "\n",
    "    val_rscaled1[cont_columns] = pd.DataFrame(rs_scaler.transform(b_val[cont_columns]),\n",
    "                                                  columns=b_val[cont_columns].columns.values).set_index([b_val.index.values])\n",
    "\n",
    "    test_rscaled1[cont_columns] = pd.DataFrame(rs_scaler.transform(b_test[cont_columns]),\n",
    "                                                 columns=b_test[cont_columns].columns.values).set_index([b_test.index.values])\n",
    "    #Sending them back\n",
    "    return train_rscaled1, val_rscaled1, test_rscaled1"
   ]
  }
 ],
 "metadata": {
  "kernelspec": {
   "display_name": "Python 3 (ipykernel)",
   "language": "python",
   "name": "python3"
  },
  "language_info": {
   "codemirror_mode": {
    "name": "ipython",
    "version": 3
   },
   "file_extension": ".py",
   "mimetype": "text/x-python",
   "name": "python",
   "nbconvert_exporter": "python",
   "pygments_lexer": "ipython3",
   "version": "3.9.15"
  }
 },
 "nbformat": 4,
 "nbformat_minor": 5
}
