{
 "cells": [
  {
   "cell_type": "code",
   "execution_count": 1,
   "id": "17fb1245-6155-4b7c-a255-c4c93d82fc53",
   "metadata": {
    "tags": []
   },
   "outputs": [],
   "source": [
    "#Importing required packages and files\n",
    "import pandas as pd\n",
    "import numpy as np\n",
    "from scipy import stats\n",
    "import matplotlib.pyplot as plt\n",
    "import seaborn as sns\n",
    "import os\n",
    "\n",
    "#These imports were constructed\n",
    "from wrangle import wrangle_zillow\n",
    "\n",
    "#Tools to build machine learning models and reports\n",
    "from sklearn.model_selection import train_test_split\n",
    "\n",
    "#Removes warnings and imporves asthenics\n",
    "import warnings\n",
    "warnings.filterwarnings(\"ignore\")\n",
    "\n",
    "#Sets an option to show all columns\n",
    "pd.options.display.max_columns = None\n",
    "pd.options.display.width = 100\n",
    "pd.options.display.max_colwidth = None\n"
   ]
  },
  {
   "cell_type": "markdown",
   "id": "01411a91-1fe9-4cdc-b182-cef84d4f3876",
   "metadata": {},
   "source": [
    "Target column = taxvaluedollarcnt\n",
    "\n",
    "Dropping all null values had a small affected on all fields except the upper outliers.\n",
    "- Measured by viewing the difference of a before and after DataFrame.describe()\n",
    "- code: 'change = round(before_df.describe - after_df.describe,2)'"
   ]
  },
  {
   "cell_type": "code",
   "execution_count": 2,
   "id": "6be4ad0b-d4ab-4d86-bdb0-9ae1d1e66c1d",
   "metadata": {},
   "outputs": [],
   "source": [
    "master_df = wrangle_zillow()"
   ]
  },
  {
   "cell_type": "code",
   "execution_count": 3,
   "id": "849c0c26-dd49-4f3d-bca0-60a4f594206e",
   "metadata": {},
   "outputs": [
    {
     "data": {
      "text/html": [
       "<div>\n",
       "<style scoped>\n",
       "    .dataframe tbody tr th:only-of-type {\n",
       "        vertical-align: middle;\n",
       "    }\n",
       "\n",
       "    .dataframe tbody tr th {\n",
       "        vertical-align: top;\n",
       "    }\n",
       "\n",
       "    .dataframe thead th {\n",
       "        text-align: right;\n",
       "    }\n",
       "</style>\n",
       "<table border=\"1\" class=\"dataframe\">\n",
       "  <thead>\n",
       "    <tr style=\"text-align: right;\">\n",
       "      <th></th>\n",
       "      <th>Feature</th>\n",
       "      <th>Description</th>\n",
       "    </tr>\n",
       "  </thead>\n",
       "  <tbody>\n",
       "    <tr>\n",
       "      <th>4</th>\n",
       "      <td>'bedroomcnt'</td>\n",
       "      <td>Number of bedrooms in home</td>\n",
       "    </tr>\n",
       "    <tr>\n",
       "      <th>3</th>\n",
       "      <td>'bathroomcnt'</td>\n",
       "      <td>Number of bathrooms in home including fractional bathrooms</td>\n",
       "    </tr>\n",
       "    <tr>\n",
       "      <th>11</th>\n",
       "      <td>'calculatedfinishedsquarefeet'</td>\n",
       "      <td>Calculated total finished living area of the home</td>\n",
       "    </tr>\n",
       "    <tr>\n",
       "      <th>51</th>\n",
       "      <td>'taxvaluedollarcnt'</td>\n",
       "      <td>The total tax assessed value of the parcel</td>\n",
       "    </tr>\n",
       "    <tr>\n",
       "      <th>50</th>\n",
       "      <td>'yearbuilt'</td>\n",
       "      <td>The Year the principal residence was built</td>\n",
       "    </tr>\n",
       "    <tr>\n",
       "      <th>54</th>\n",
       "      <td>'taxamount'</td>\n",
       "      <td>The total property tax assessed for that assessment year</td>\n",
       "    </tr>\n",
       "  </tbody>\n",
       "</table>\n",
       "</div>"
      ],
      "text/plain": [
       "                           Feature                                                  Description\n",
       "4                     'bedroomcnt'                                  Number of bedrooms in home \n",
       "3                    'bathroomcnt'   Number of bathrooms in home including fractional bathrooms\n",
       "11  'calculatedfinishedsquarefeet'           Calculated total finished living area of the home \n",
       "51             'taxvaluedollarcnt'                   The total tax assessed value of the parcel\n",
       "50                     'yearbuilt'                  The Year the principal residence was built \n",
       "54                     'taxamount'     The total property tax assessed for that assessment year"
      ]
     },
     "execution_count": 3,
     "metadata": {},
     "output_type": "execute_result"
    }
   ],
   "source": [
    "schema = pd.read_excel('zillow_data_dictionary.xlsx')\n",
    "#schema\n",
    "schema.loc[[4, 3, 11, 51, 50, 54]]"
   ]
  },
  {
   "cell_type": "code",
   "execution_count": null,
   "id": "1abb8bfc-78e3-4dce-8137-e63a8ca1e915",
   "metadata": {},
   "outputs": [],
   "source": []
  }
 ],
 "metadata": {
  "kernelspec": {
   "display_name": "Python 3 (ipykernel)",
   "language": "python",
   "name": "python3"
  },
  "language_info": {
   "codemirror_mode": {
    "name": "ipython",
    "version": 3
   },
   "file_extension": ".py",
   "mimetype": "text/x-python",
   "name": "python",
   "nbconvert_exporter": "python",
   "pygments_lexer": "ipython3",
   "version": "3.9.15"
  }
 },
 "nbformat": 4,
 "nbformat_minor": 5
}
