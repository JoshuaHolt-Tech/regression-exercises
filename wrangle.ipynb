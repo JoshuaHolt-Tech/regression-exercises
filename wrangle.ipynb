{
 "cells": [
  {
   "cell_type": "code",
   "execution_count": 1,
   "id": "17fb1245-6155-4b7c-a255-c4c93d82fc53",
   "metadata": {
    "tags": []
   },
   "outputs": [],
   "source": [
    "#Importing required packages and files\n",
    "import pandas as pd\n",
    "import numpy as np\n",
    "from scipy import stats\n",
    "import matplotlib.pyplot as plt\n",
    "import seaborn as sns\n",
    "import os\n",
    "\n",
    "#These imports were constructed\n",
    "from wrangle import wrangle_zillow, train_validate\n",
    "\n",
    "#Tools to build machine learning models and reports\n",
    "from sklearn.model_selection import train_test_split\n",
    "\n",
    "#Removes warnings and imporves asthenics\n",
    "import warnings\n",
    "#warnings.filterwarnings(\"ignore\")\n",
    "\n",
    "#Sets an option to show all columns\n",
    "pd.options.display.max_columns = None\n",
    "pd.options.display.width = 100\n",
    "pd.options.display.max_colwidth = None\n"
   ]
  },
  {
   "cell_type": "markdown",
   "id": "01411a91-1fe9-4cdc-b182-cef84d4f3876",
   "metadata": {},
   "source": [
    "Source:\n",
    "- https://www.kaggle.com/competitions/zillow-prize-1/overvie\n",
    "\n",
    "Target column = taxvaluedollarcnt\n",
    "\n",
    "Dropping all null values had a small affected on all fields except the upper outliers in 'taxvaluedollarcnt'/'tax_value'.\n",
    "- Must adjust wrangle.py to see the results of the code below\n",
    "- Measured by viewing the difference of a before and after DataFrame.describe()\n",
    "- `after_df = before_df.dropna()`\n",
    "- `change = round(before_df.describe - after_df.describe,2)`"
   ]
  },
  {
   "cell_type": "code",
   "execution_count": 2,
   "id": "6be4ad0b-d4ab-4d86-bdb0-9ae1d1e66c1d",
   "metadata": {},
   "outputs": [],
   "source": [
    "df = wrangle_zillow()"
   ]
  },
  {
   "cell_type": "code",
   "execution_count": 3,
   "id": "849c0c26-dd49-4f3d-bca0-60a4f594206e",
   "metadata": {},
   "outputs": [
    {
     "data": {
      "text/html": [
       "<div>\n",
       "<style scoped>\n",
       "    .dataframe tbody tr th:only-of-type {\n",
       "        vertical-align: middle;\n",
       "    }\n",
       "\n",
       "    .dataframe tbody tr th {\n",
       "        vertical-align: top;\n",
       "    }\n",
       "\n",
       "    .dataframe thead th {\n",
       "        text-align: right;\n",
       "    }\n",
       "</style>\n",
       "<table border=\"1\" class=\"dataframe\">\n",
       "  <thead>\n",
       "    <tr style=\"text-align: right;\">\n",
       "      <th></th>\n",
       "      <th>Feature</th>\n",
       "      <th>Description</th>\n",
       "    </tr>\n",
       "  </thead>\n",
       "  <tbody>\n",
       "    <tr>\n",
       "      <th>4</th>\n",
       "      <td>'bedroomcnt'</td>\n",
       "      <td>Number of bedrooms in home</td>\n",
       "    </tr>\n",
       "    <tr>\n",
       "      <th>3</th>\n",
       "      <td>'bathroomcnt'</td>\n",
       "      <td>Number of bathrooms in home including fractional bathrooms</td>\n",
       "    </tr>\n",
       "    <tr>\n",
       "      <th>11</th>\n",
       "      <td>'calculatedfinishedsquarefeet'</td>\n",
       "      <td>Calculated total finished living area of the home</td>\n",
       "    </tr>\n",
       "    <tr>\n",
       "      <th>51</th>\n",
       "      <td>'taxvaluedollarcnt'</td>\n",
       "      <td>The total tax assessed value of the parcel</td>\n",
       "    </tr>\n",
       "    <tr>\n",
       "      <th>50</th>\n",
       "      <td>'yearbuilt'</td>\n",
       "      <td>The Year the principal residence was built</td>\n",
       "    </tr>\n",
       "    <tr>\n",
       "      <th>54</th>\n",
       "      <td>'taxamount'</td>\n",
       "      <td>The total property tax assessed for that assessment year</td>\n",
       "    </tr>\n",
       "    <tr>\n",
       "      <th>17</th>\n",
       "      <td>'fips'</td>\n",
       "      <td>Federal Information Processing Standard code -  see https://en.wikipedia.org/wiki/FIPS_county_code for more details</td>\n",
       "    </tr>\n",
       "  </tbody>\n",
       "</table>\n",
       "</div>"
      ],
      "text/plain": [
       "                           Feature  \\\n",
       "4                     'bedroomcnt'   \n",
       "3                    'bathroomcnt'   \n",
       "11  'calculatedfinishedsquarefeet'   \n",
       "51             'taxvaluedollarcnt'   \n",
       "50                     'yearbuilt'   \n",
       "54                     'taxamount'   \n",
       "17                          'fips'   \n",
       "\n",
       "                                                                                                             Description  \n",
       "4                                                                                            Number of bedrooms in home   \n",
       "3                                                             Number of bathrooms in home including fractional bathrooms  \n",
       "11                                                                    Calculated total finished living area of the home   \n",
       "51                                                                            The total tax assessed value of the parcel  \n",
       "50                                                                           The Year the principal residence was built   \n",
       "54                                                              The total property tax assessed for that assessment year  \n",
       "17   Federal Information Processing Standard code -  see https://en.wikipedia.org/wiki/FIPS_county_code for more details  "
      ]
     },
     "execution_count": 3,
     "metadata": {},
     "output_type": "execute_result"
    }
   ],
   "source": [
    "schema = pd.read_excel('zillow_data_dictionary.xlsx')\n",
    "#schema\n",
    "schema.loc[[4, 3, 11, 51, 50, 54, 17]]"
   ]
  },
  {
   "cell_type": "code",
   "execution_count": 4,
   "id": "807a4185-a64e-48a7-ad53-f51819f67e9e",
   "metadata": {},
   "outputs": [
    {
     "name": "stdout",
     "output_type": "stream",
     "text": [
      "<class 'pandas.core.frame.DataFrame'>\n",
      "Int64Index: 2131116 entries, 4 to 2152862\n",
      "Data columns (total 7 columns):\n",
      " #   Column      Non-Null Count    Dtype  \n",
      "---  ------      --------------    -----  \n",
      " 0   bedrooms    2131116 non-null  float64\n",
      " 1   bathrooms   2131116 non-null  float64\n",
      " 2   sqft        2131116 non-null  float64\n",
      " 3   tax_value   2131116 non-null  float64\n",
      " 4   year_built  2131116 non-null  float64\n",
      " 5   tax_amount  2131116 non-null  float64\n",
      " 6   fips        2131116 non-null  float64\n",
      "dtypes: float64(7)\n",
      "memory usage: 130.1 MB\n"
     ]
    }
   ],
   "source": [
    "df.info(show_counts = True)"
   ]
  },
  {
   "cell_type": "markdown",
   "id": "63310ef5-ab94-49af-8a9b-a790ff251f55",
   "metadata": {},
   "source": [
    "# Plot the distributions\n",
    "plt.figure(figsize=(16, 6))\n",
    "\n",
    "# List of columns\n",
    "cols = ['bedrooms', 'bathrooms', 'sqft', 'tax_value', 'year_built']\n",
    "\n",
    "for col in cols:\n",
    "    print(col)\n",
    "    sns.boxplot(x=col, data=df)\n",
    "    plt.show()"
   ]
  },
  {
   "cell_type": "code",
   "execution_count": 5,
   "id": "1abb8bfc-78e3-4dce-8137-e63a8ca1e915",
   "metadata": {},
   "outputs": [],
   "source": [
    "train, val, test = train_validate(df)"
   ]
  },
  {
   "cell_type": "code",
   "execution_count": 6,
   "id": "01ef7b93-637b-4c91-8f90-b7bf84aea35c",
   "metadata": {},
   "outputs": [],
   "source": [
    "cols_outliers = ['bedrooms', 'bathrooms', 'sqft', 'tax_value', 'taxamount']"
   ]
  },
  {
   "cell_type": "code",
   "execution_count": 7,
   "id": "7b1f5d15-01e0-4c78-8633-16a83a5da007",
   "metadata": {},
   "outputs": [
    {
     "data": {
      "text/plain": [
       "1193424"
      ]
     },
     "execution_count": 7,
     "metadata": {},
     "output_type": "execute_result"
    }
   ],
   "source": [
    "len(train)\n",
    "#Output: 1198531\n"
   ]
  },
  {
   "cell_type": "markdown",
   "id": "1bedb09d-3068-4b23-a42c-9c317c1cb789",
   "metadata": {},
   "source": [
    "train = train[train['sqft'] <= train['sqft'].quantile(q=0.995)]"
   ]
  },
  {
   "cell_type": "code",
   "execution_count": 8,
   "id": "8d8196f2-6ae0-4ed1-bc9b-592d7531dd26",
   "metadata": {},
   "outputs": [
    {
     "data": {
      "text/plain": [
       "1193424"
      ]
     },
     "execution_count": 8,
     "metadata": {},
     "output_type": "execute_result"
    }
   ],
   "source": [
    "len(train)"
   ]
  },
  {
   "cell_type": "markdown",
   "id": "44085317-358c-4dd4-8063-5622c70a8d3d",
   "metadata": {
    "tags": []
   },
   "source": [
    "for col in cols_outliers:\n",
    "    df = df[df[col] <= df[col].quantile(q=0.995)]"
   ]
  },
  {
   "cell_type": "code",
   "execution_count": 9,
   "id": "57aa23b9-b577-4ea1-b390-a5c6444c4b02",
   "metadata": {},
   "outputs": [
    {
     "data": {
      "text/plain": [
       "bedrooms      7.000000e+00\n",
       "bathrooms     8.000000e+00\n",
       "sqft          8.217658e+03\n",
       "tax_value     4.899518e+06\n",
       "year_built    2.015000e+03\n",
       "tax_amount    5.471431e+04\n",
       "fips          6.111000e+03\n",
       "Name: 0.9999, dtype: float64"
      ]
     },
     "execution_count": 9,
     "metadata": {},
     "output_type": "execute_result"
    }
   ],
   "source": [
    "\n",
    "train.quantile(q=.9999)"
   ]
  },
  {
   "cell_type": "code",
   "execution_count": 10,
   "id": "d913f9bf-b742-4a61-9c9d-8ba23c4697df",
   "metadata": {},
   "outputs": [
    {
     "data": {
      "text/html": [
       "<div>\n",
       "<style scoped>\n",
       "    .dataframe tbody tr th:only-of-type {\n",
       "        vertical-align: middle;\n",
       "    }\n",
       "\n",
       "    .dataframe tbody tr th {\n",
       "        vertical-align: top;\n",
       "    }\n",
       "\n",
       "    .dataframe thead th {\n",
       "        text-align: right;\n",
       "    }\n",
       "</style>\n",
       "<table border=\"1\" class=\"dataframe\">\n",
       "  <thead>\n",
       "    <tr style=\"text-align: right;\">\n",
       "      <th></th>\n",
       "      <th>count</th>\n",
       "      <th>mean</th>\n",
       "      <th>std</th>\n",
       "      <th>min</th>\n",
       "      <th>25%</th>\n",
       "      <th>50%</th>\n",
       "      <th>75%</th>\n",
       "      <th>max</th>\n",
       "    </tr>\n",
       "  </thead>\n",
       "  <tbody>\n",
       "    <tr>\n",
       "      <th>bedrooms</th>\n",
       "      <td>1193424.0</td>\n",
       "      <td>3.291420</td>\n",
       "      <td>0.914692</td>\n",
       "      <td>0.00</td>\n",
       "      <td>3.00</td>\n",
       "      <td>3.00</td>\n",
       "      <td>4.00</td>\n",
       "      <td>7.00</td>\n",
       "    </tr>\n",
       "    <tr>\n",
       "      <th>bathrooms</th>\n",
       "      <td>1193424.0</td>\n",
       "      <td>2.222555</td>\n",
       "      <td>0.943044</td>\n",
       "      <td>0.00</td>\n",
       "      <td>2.00</td>\n",
       "      <td>2.00</td>\n",
       "      <td>3.00</td>\n",
       "      <td>8.00</td>\n",
       "    </tr>\n",
       "    <tr>\n",
       "      <th>sqft</th>\n",
       "      <td>1193424.0</td>\n",
       "      <td>1838.509189</td>\n",
       "      <td>865.062613</td>\n",
       "      <td>1.00</td>\n",
       "      <td>1256.00</td>\n",
       "      <td>1619.00</td>\n",
       "      <td>2198.00</td>\n",
       "      <td>8407.00</td>\n",
       "    </tr>\n",
       "    <tr>\n",
       "      <th>tax_value</th>\n",
       "      <td>1193424.0</td>\n",
       "      <td>435420.536529</td>\n",
       "      <td>435471.495206</td>\n",
       "      <td>22.00</td>\n",
       "      <td>188450.75</td>\n",
       "      <td>327116.00</td>\n",
       "      <td>531000.00</td>\n",
       "      <td>6218405.00</td>\n",
       "    </tr>\n",
       "    <tr>\n",
       "      <th>year_built</th>\n",
       "      <td>1193424.0</td>\n",
       "      <td>1960.904146</td>\n",
       "      <td>22.099226</td>\n",
       "      <td>1801.00</td>\n",
       "      <td>1949.00</td>\n",
       "      <td>1958.00</td>\n",
       "      <td>1975.00</td>\n",
       "      <td>2016.00</td>\n",
       "    </tr>\n",
       "    <tr>\n",
       "      <th>tax_amount</th>\n",
       "      <td>1193424.0</td>\n",
       "      <td>5325.108997</td>\n",
       "      <td>4993.299569</td>\n",
       "      <td>13.36</td>\n",
       "      <td>2532.50</td>\n",
       "      <td>4098.86</td>\n",
       "      <td>6372.41</td>\n",
       "      <td>55708.43</td>\n",
       "    </tr>\n",
       "    <tr>\n",
       "      <th>fips</th>\n",
       "      <td>1193424.0</td>\n",
       "      <td>6048.322316</td>\n",
       "      <td>20.351067</td>\n",
       "      <td>6037.00</td>\n",
       "      <td>6037.00</td>\n",
       "      <td>6037.00</td>\n",
       "      <td>6059.00</td>\n",
       "      <td>6111.00</td>\n",
       "    </tr>\n",
       "  </tbody>\n",
       "</table>\n",
       "</div>"
      ],
      "text/plain": [
       "                count           mean            std      min        25%        50%        75%  \\\n",
       "bedrooms    1193424.0       3.291420       0.914692     0.00       3.00       3.00       4.00   \n",
       "bathrooms   1193424.0       2.222555       0.943044     0.00       2.00       2.00       3.00   \n",
       "sqft        1193424.0    1838.509189     865.062613     1.00    1256.00    1619.00    2198.00   \n",
       "tax_value   1193424.0  435420.536529  435471.495206    22.00  188450.75  327116.00  531000.00   \n",
       "year_built  1193424.0    1960.904146      22.099226  1801.00    1949.00    1958.00    1975.00   \n",
       "tax_amount  1193424.0    5325.108997    4993.299569    13.36    2532.50    4098.86    6372.41   \n",
       "fips        1193424.0    6048.322316      20.351067  6037.00    6037.00    6037.00    6059.00   \n",
       "\n",
       "                   max  \n",
       "bedrooms          7.00  \n",
       "bathrooms         8.00  \n",
       "sqft           8407.00  \n",
       "tax_value   6218405.00  \n",
       "year_built     2016.00  \n",
       "tax_amount    55708.43  \n",
       "fips           6111.00  "
      ]
     },
     "execution_count": 10,
     "metadata": {},
     "output_type": "execute_result"
    }
   ],
   "source": [
    "train.describe().T"
   ]
  },
  {
   "cell_type": "code",
   "execution_count": null,
   "id": "00e76006-3ce1-4c59-9cf5-abd0a2b6f303",
   "metadata": {},
   "outputs": [],
   "source": []
  }
 ],
 "metadata": {
  "kernelspec": {
   "display_name": "Python 3 (ipykernel)",
   "language": "python",
   "name": "python3"
  },
  "language_info": {
   "codemirror_mode": {
    "name": "ipython",
    "version": 3
   },
   "file_extension": ".py",
   "mimetype": "text/x-python",
   "name": "python",
   "nbconvert_exporter": "python",
   "pygments_lexer": "ipython3",
   "version": "3.9.15"
  }
 },
 "nbformat": 4,
 "nbformat_minor": 5
}
